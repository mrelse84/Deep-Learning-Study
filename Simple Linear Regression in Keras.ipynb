{
 "cells": [
  {
   "cell_type": "markdown",
   "metadata": {},
   "source": [
    "# Simple Linear Regression in Keras"
   ]
  },
  {
   "cell_type": "markdown",
   "metadata": {},
   "source": [
    "케라스는 딥러닝 모델을 만들기 위한 고수준의 구성 요소를 제공하는 모델 수준의 라이브러리입니다.  \n",
    "Keras는 그리스어로 뿔을 의미"
   ]
  },
  {
   "cell_type": "code",
   "execution_count": 1,
   "metadata": {},
   "outputs": [],
   "source": [
    "# tensorflow를 2.6.0  버전으로 upgrade한다\n",
    "#!pip install --upgrade tensorflow-cpu==2.6.0"
   ]
  },
  {
   "cell_type": "code",
   "execution_count": 2,
   "metadata": {},
   "outputs": [
    {
     "name": "stdout",
     "output_type": "stream",
     "text": [
      "Python Ver. :  3.7.8 (tags/v3.7.8:4b47a5b6ba, Jun 28 2020, 08:53:46) [MSC v.1916 64 bit (AMD64)]\n",
      "Tensorflow Ver. :  2.7.0\n"
     ]
    }
   ],
   "source": [
    "# TensorFlow and tf.keras\n",
    "import tensorflow as tf\n",
    "import tensorflow.keras.models as models\n",
    "import tensorflow.keras.layers as layers\n",
    "\n",
    "# Helper libraries\n",
    "import numpy as np\n",
    "import matplotlib.pyplot as plt\n",
    "\n",
    "import sys\n",
    "print('Python Ver. : ', sys.version)\n",
    "print('Tensorflow Ver. : ', tf.__version__)"
   ]
  },
  {
   "cell_type": "markdown",
   "metadata": {},
   "source": [
    "일차 함수 (y = ax + b)를 DL의 Neural Net으로 어떻게 모델링 할 수 있는지 테스트해 본다"
   ]
  },
  {
   "cell_type": "code",
   "execution_count": 3,
   "metadata": {},
   "outputs": [],
   "source": [
    "# y = a*x + b의 데이터 (a=2, b=0.5)\n",
    "x_data = np.array([1, 2, 3, 4, 5, 6, 7, 8, 9])\n",
    "y_data = np.array([2.5, 4.5, 6.5, 8.5, 10.5, 12.5, 14.5, 16.5, 18.5])"
   ]
  },
  {
   "cell_type": "markdown",
   "metadata": {},
   "source": [
    "## 모델 구성"
   ]
  },
  {
   "cell_type": "markdown",
   "metadata": {},
   "source": [
    "Keras로 모델을 만드는 세 가지 방법이 있다.  \n",
    "1. Sequential API\n",
    "2. Functional API\n",
    "3. Model Subclassing"
   ]
  },
  {
   "cell_type": "code",
   "execution_count": 4,
   "metadata": {},
   "outputs": [],
   "source": [
    "# Sequential API\n",
    "model = models.Sequential()\n",
    "model.add(layers.Dense(1, activation='linear', input_shape=(1,)))\n",
    "\n",
    "# 다음과 같이 묶는 방법도 있다\n",
    "#model = tf.keras.Sequential([\n",
    "#    tf.keras.layers.Dense(1, input_dim=1, activation='linear')\n",
    "#])"
   ]
  },
  {
   "cell_type": "code",
   "execution_count": 5,
   "metadata": {},
   "outputs": [],
   "source": [
    "# Functional API를 사용하는 방법은 다음과 같다\n",
    "# Functional API\n",
    "#input_tensor = layers.Input(shape=(1,))\n",
    "#output_tensor = layers.Dense(1, activation='linear')(input_tensor)\n",
    "#model = models.Model(inputs=input_tensor, outputs=output_tensor)"
   ]
  },
  {
   "cell_type": "code",
   "execution_count": 6,
   "metadata": {},
   "outputs": [
    {
     "name": "stdout",
     "output_type": "stream",
     "text": [
      "Model: \"sequential\"\n",
      "_________________________________________________________________\n",
      " Layer (type)                Output Shape              Param #   \n",
      "=================================================================\n",
      " dense (Dense)               (None, 1)                 2         \n",
      "                                                                 \n",
      "=================================================================\n",
      "Total params: 2\n",
      "Trainable params: 2\n",
      "Non-trainable params: 0\n",
      "_________________________________________________________________\n"
     ]
    }
   ],
   "source": [
    "# 모델의 구조 살펴 보기\n",
    "model.summary()"
   ]
  },
  {
   "cell_type": "markdown",
   "metadata": {},
   "source": [
    "## 모델 컴파일"
   ]
  },
  {
   "cell_type": "code",
   "execution_count": 7,
   "metadata": {},
   "outputs": [],
   "source": [
    "model.compile(optimizer=tf.keras.optimizers.SGD(learning_rate=0.01),\n",
    "              loss='mse',\n",
    "              metrics=['mse'])"
   ]
  },
  {
   "cell_type": "markdown",
   "metadata": {},
   "source": [
    "## 모델 훈련"
   ]
  },
  {
   "cell_type": "code",
   "execution_count": 8,
   "metadata": {},
   "outputs": [
    {
     "name": "stdout",
     "output_type": "stream",
     "text": [
      "Epoch 1/100\n",
      "9/9 [==============================] - 0s 4ms/step - loss: 18.0963 - mse: 18.0963\n",
      "Epoch 2/100\n",
      "9/9 [==============================] - 0s 375us/step - loss: 0.0027 - mse: 0.0027\n",
      "Epoch 3/100\n",
      "9/9 [==============================] - 0s 375us/step - loss: 0.0025 - mse: 0.0025\n",
      "Epoch 4/100\n",
      "9/9 [==============================] - 0s 500us/step - loss: 0.0023 - mse: 0.0023\n",
      "Epoch 5/100\n",
      "9/9 [==============================] - 0s 371us/step - loss: 0.0022 - mse: 0.0022\n",
      "Epoch 6/100\n",
      "9/9 [==============================] - 0s 375us/step - loss: 0.0021 - mse: 0.0021\n",
      "Epoch 7/100\n",
      "9/9 [==============================] - 0s 375us/step - loss: 0.0019 - mse: 0.0019\n",
      "Epoch 8/100\n",
      "9/9 [==============================] - 0s 375us/step - loss: 0.0018 - mse: 0.0018\n",
      "Epoch 9/100\n",
      "9/9 [==============================] - 0s 375us/step - loss: 0.0017 - mse: 0.0017\n",
      "Epoch 10/100\n",
      "9/9 [==============================] - 0s 375us/step - loss: 0.0016 - mse: 0.0016\n",
      "Epoch 11/100\n",
      "9/9 [==============================] - 0s 375us/step - loss: 0.0015 - mse: 0.0015\n",
      "Epoch 12/100\n",
      "9/9 [==============================] - 0s 501us/step - loss: 0.0014 - mse: 0.0014\n",
      "Epoch 13/100\n",
      "9/9 [==============================] - 0s 375us/step - loss: 0.0013 - mse: 0.0013\n",
      "Epoch 14/100\n",
      "9/9 [==============================] - 0s 375us/step - loss: 0.0012 - mse: 0.0012\n",
      "Epoch 15/100\n",
      "9/9 [==============================] - 0s 500us/step - loss: 0.0011 - mse: 0.0011\n",
      "Epoch 16/100\n",
      "9/9 [==============================] - 0s 375us/step - loss: 0.0011 - mse: 0.0011\n",
      "Epoch 17/100\n",
      "9/9 [==============================] - 0s 375us/step - loss: 9.8266e-04 - mse: 9.8266e-04\n",
      "Epoch 18/100\n",
      "9/9 [==============================] - 0s 375us/step - loss: 9.1899e-04 - mse: 9.1899e-04\n",
      "Epoch 19/100\n",
      "9/9 [==============================] - 0s 375us/step - loss: 8.5946e-04 - mse: 8.5946e-04\n",
      "Epoch 20/100\n",
      "9/9 [==============================] - 0s 375us/step - loss: 8.0378e-04 - mse: 8.0378e-04\n",
      "Epoch 21/100\n",
      "9/9 [==============================] - 0s 500us/step - loss: 7.5170e-04 - mse: 7.5170e-04\n",
      "Epoch 22/100\n",
      "9/9 [==============================] - 0s 375us/step - loss: 7.0299e-04 - mse: 7.0299e-04\n",
      "Epoch 23/100\n",
      "9/9 [==============================] - 0s 500us/step - loss: 6.5744e-04 - mse: 6.5744e-04\n",
      "Epoch 24/100\n",
      "9/9 [==============================] - 0s 375us/step - loss: 6.1485e-04 - mse: 6.1485e-04\n",
      "Epoch 25/100\n",
      "9/9 [==============================] - 0s 375us/step - loss: 5.7501e-04 - mse: 5.7501e-04\n",
      "Epoch 26/100\n",
      "9/9 [==============================] - 0s 375us/step - loss: 5.3775e-04 - mse: 5.3775e-04\n",
      "Epoch 27/100\n",
      "9/9 [==============================] - 0s 375us/step - loss: 5.0291e-04 - mse: 5.0291e-04\n",
      "Epoch 28/100\n",
      "9/9 [==============================] - 0s 501us/step - loss: 4.7032e-04 - mse: 4.7032e-04\n",
      "Epoch 29/100\n",
      "9/9 [==============================] - 0s 375us/step - loss: 4.3986e-04 - mse: 4.3986e-04\n",
      "Epoch 30/100\n",
      "9/9 [==============================] - 0s 375us/step - loss: 4.1136e-04 - mse: 4.1136e-04\n",
      "Epoch 31/100\n",
      "9/9 [==============================] - 0s 375us/step - loss: 3.8470e-04 - mse: 3.8470e-04\n",
      "Epoch 32/100\n",
      "9/9 [==============================] - 0s 500us/step - loss: 3.5976e-04 - mse: 3.5976e-04\n",
      "Epoch 33/100\n",
      "9/9 [==============================] - 0s 375us/step - loss: 3.3646e-04 - mse: 3.3646e-04\n",
      "Epoch 34/100\n",
      "9/9 [==============================] - 0s 500us/step - loss: 3.1466e-04 - mse: 3.1466e-04\n",
      "Epoch 35/100\n",
      "9/9 [==============================] - 0s 375us/step - loss: 2.9427e-04 - mse: 2.9427e-04\n",
      "Epoch 36/100\n",
      "9/9 [==============================] - 0s 375us/step - loss: 2.7522e-04 - mse: 2.7522e-04\n",
      "Epoch 37/100\n",
      "9/9 [==============================] - 0s 375us/step - loss: 2.5739e-04 - mse: 2.5739e-04\n",
      "Epoch 38/100\n",
      "9/9 [==============================] - 0s 375us/step - loss: 2.4070e-04 - mse: 2.4070e-04\n",
      "Epoch 39/100\n",
      "9/9 [==============================] - 0s 375us/step - loss: 2.2511e-04 - mse: 2.2511e-04\n",
      "Epoch 40/100\n",
      "9/9 [==============================] - 0s 375us/step - loss: 2.1053e-04 - mse: 2.1053e-04\n",
      "Epoch 41/100\n",
      "9/9 [==============================] - 0s 375us/step - loss: 1.9689e-04 - mse: 1.9689e-04\n",
      "Epoch 42/100\n",
      "9/9 [==============================] - 0s 375us/step - loss: 1.8412e-04 - mse: 1.8412e-04\n",
      "Epoch 43/100\n",
      "9/9 [==============================] - 0s 500us/step - loss: 1.7220e-04 - mse: 1.7220e-04\n",
      "Epoch 44/100\n",
      "9/9 [==============================] - 0s 375us/step - loss: 1.6103e-04 - mse: 1.6103e-04\n",
      "Epoch 45/100\n",
      "9/9 [==============================] - 0s 375us/step - loss: 1.5061e-04 - mse: 1.5061e-04\n",
      "Epoch 46/100\n",
      "9/9 [==============================] - 0s 375us/step - loss: 1.4084e-04 - mse: 1.4084e-04\n",
      "Epoch 47/100\n",
      "9/9 [==============================] - 0s 375us/step - loss: 1.3171e-04 - mse: 1.3171e-04\n",
      "Epoch 48/100\n",
      "9/9 [==============================] - 0s 500us/step - loss: 1.2319e-04 - mse: 1.2319e-04\n",
      "Epoch 49/100\n",
      "9/9 [==============================] - 0s 375us/step - loss: 1.1520e-04 - mse: 1.1520e-04\n",
      "Epoch 50/100\n",
      "9/9 [==============================] - 0s 375us/step - loss: 1.0774e-04 - mse: 1.0774e-04\n",
      "Epoch 51/100\n",
      "9/9 [==============================] - 0s 500us/step - loss: 1.0076e-04 - mse: 1.0076e-04\n",
      "Epoch 52/100\n",
      "9/9 [==============================] - 0s 375us/step - loss: 9.4229e-05 - mse: 9.4229e-05\n",
      "Epoch 53/100\n",
      "9/9 [==============================] - 0s 375us/step - loss: 8.8125e-05 - mse: 8.8125e-05\n",
      "Epoch 54/100\n",
      "9/9 [==============================] - 0s 501us/step - loss: 8.2416e-05 - mse: 8.2416e-05\n",
      "Epoch 55/100\n",
      "9/9 [==============================] - 0s 375us/step - loss: 7.7080e-05 - mse: 7.7080e-05\n",
      "Epoch 56/100\n",
      "9/9 [==============================] - 0s 375us/step - loss: 7.2080e-05 - mse: 7.2080e-05\n",
      "Epoch 57/100\n",
      "9/9 [==============================] - 0s 375us/step - loss: 6.7411e-05 - mse: 6.7411e-05\n",
      "Epoch 58/100\n",
      "9/9 [==============================] - 0s 375us/step - loss: 6.3043e-05 - mse: 6.3043e-05\n",
      "Epoch 59/100\n",
      "9/9 [==============================] - 0s 375us/step - loss: 5.8958e-05 - mse: 5.8958e-05\n",
      "Epoch 60/100\n",
      "9/9 [==============================] - 0s 500us/step - loss: 5.5136e-05 - mse: 5.5136e-05\n",
      "Epoch 61/100\n",
      "9/9 [==============================] - 0s 375us/step - loss: 5.1564e-05 - mse: 5.1564e-05\n",
      "Epoch 62/100\n",
      "9/9 [==============================] - 0s 375us/step - loss: 4.8224e-05 - mse: 4.8224e-05\n",
      "Epoch 63/100\n",
      "9/9 [==============================] - 0s 375us/step - loss: 4.5099e-05 - mse: 4.5099e-05\n",
      "Epoch 64/100\n",
      "9/9 [==============================] - 0s 500us/step - loss: 4.2181e-05 - mse: 4.2181e-05\n",
      "Epoch 65/100\n",
      "9/9 [==============================] - 0s 375us/step - loss: 3.9447e-05 - mse: 3.9447e-05\n",
      "Epoch 66/100\n",
      "9/9 [==============================] - 0s 375us/step - loss: 3.6887e-05 - mse: 3.6887e-05\n",
      "Epoch 67/100\n",
      "9/9 [==============================] - 0s 375us/step - loss: 3.4498e-05 - mse: 3.4498e-05\n",
      "Epoch 68/100\n",
      "9/9 [==============================] - 0s 375us/step - loss: 3.2264e-05 - mse: 3.2264e-05\n",
      "Epoch 69/100\n",
      "9/9 [==============================] - 0s 375us/step - loss: 3.0171e-05 - mse: 3.0171e-05\n",
      "Epoch 70/100\n",
      "9/9 [==============================] - 0s 375us/step - loss: 2.8217e-05 - mse: 2.8217e-05\n",
      "Epoch 71/100\n",
      "9/9 [==============================] - 0s 375us/step - loss: 2.6392e-05 - mse: 2.6392e-05\n",
      "Epoch 72/100\n",
      "9/9 [==============================] - 0s 375us/step - loss: 2.4678e-05 - mse: 2.4678e-05\n",
      "Epoch 73/100\n",
      "9/9 [==============================] - 0s 375us/step - loss: 2.3081e-05 - mse: 2.3081e-05\n",
      "Epoch 74/100\n",
      "9/9 [==============================] - 0s 375us/step - loss: 2.1582e-05 - mse: 2.1582e-05\n",
      "Epoch 75/100\n",
      "9/9 [==============================] - 0s 500us/step - loss: 2.0185e-05 - mse: 2.0185e-05\n",
      "Epoch 76/100\n",
      "9/9 [==============================] - 0s 375us/step - loss: 1.8878e-05 - mse: 1.8878e-05\n",
      "Epoch 77/100\n",
      "9/9 [==============================] - 0s 500us/step - loss: 1.7655e-05 - mse: 1.7655e-05\n",
      "Epoch 78/100\n",
      "9/9 [==============================] - 0s 375us/step - loss: 1.6510e-05 - mse: 1.6510e-05\n",
      "Epoch 79/100\n",
      "9/9 [==============================] - 0s 500us/step - loss: 1.5439e-05 - mse: 1.5439e-05\n",
      "Epoch 80/100\n",
      "9/9 [==============================] - 0s 375us/step - loss: 1.4442e-05 - mse: 1.4442e-05\n",
      "Epoch 81/100\n"
     ]
    },
    {
     "name": "stdout",
     "output_type": "stream",
     "text": [
      "9/9 [==============================] - 0s 375us/step - loss: 1.3503e-05 - mse: 1.3503e-05\n",
      "Epoch 82/100\n",
      "9/9 [==============================] - 0s 375us/step - loss: 1.2630e-05 - mse: 1.2630e-05\n",
      "Epoch 83/100\n",
      "9/9 [==============================] - 0s 375us/step - loss: 1.1809e-05 - mse: 1.1809e-05\n",
      "Epoch 84/100\n",
      "9/9 [==============================] - 0s 375us/step - loss: 1.1047e-05 - mse: 1.1047e-05\n",
      "Epoch 85/100\n",
      "9/9 [==============================] - 0s 375us/step - loss: 1.0329e-05 - mse: 1.0329e-05\n",
      "Epoch 86/100\n",
      "9/9 [==============================] - 0s 375us/step - loss: 9.6590e-06 - mse: 9.6590e-06\n",
      "Epoch 87/100\n",
      "9/9 [==============================] - 0s 500us/step - loss: 9.0353e-06 - mse: 9.0353e-06\n",
      "Epoch 88/100\n",
      "9/9 [==============================] - 0s 375us/step - loss: 8.4479e-06 - mse: 8.4479e-06\n",
      "Epoch 89/100\n",
      "9/9 [==============================] - 0s 375us/step - loss: 7.9022e-06 - mse: 7.9022e-06\n",
      "Epoch 90/100\n",
      "9/9 [==============================] - 0s 375us/step - loss: 7.3891e-06 - mse: 7.3891e-06\n",
      "Epoch 91/100\n",
      "9/9 [==============================] - 0s 375us/step - loss: 6.9122e-06 - mse: 6.9122e-06\n",
      "Epoch 92/100\n",
      "9/9 [==============================] - 0s 375us/step - loss: 6.4637e-06 - mse: 6.4637e-06\n",
      "Epoch 93/100\n",
      "9/9 [==============================] - 0s 501us/step - loss: 6.0440e-06 - mse: 6.0440e-06\n",
      "Epoch 94/100\n",
      "9/9 [==============================] - 0s 500us/step - loss: 5.6536e-06 - mse: 5.6536e-06\n",
      "Epoch 95/100\n",
      "9/9 [==============================] - 0s 375us/step - loss: 5.2866e-06 - mse: 5.2866e-06\n",
      "Epoch 96/100\n",
      "9/9 [==============================] - 0s 375us/step - loss: 4.9453e-06 - mse: 4.9453e-06\n",
      "Epoch 97/100\n",
      "9/9 [==============================] - 0s 501us/step - loss: 4.6245e-06 - mse: 4.6245e-06\n",
      "Epoch 98/100\n",
      "9/9 [==============================] - 0s 375us/step - loss: 4.3245e-06 - mse: 4.3245e-06\n",
      "Epoch 99/100\n",
      "9/9 [==============================] - 0s 375us/step - loss: 4.0432e-06 - mse: 4.0432e-06\n",
      "Epoch 100/100\n",
      "9/9 [==============================] - 0s 375us/step - loss: 3.7817e-06 - mse: 3.7817e-06\n"
     ]
    },
    {
     "data": {
      "text/plain": [
       "<keras.callbacks.History at 0x1b57239cb08>"
      ]
     },
     "execution_count": 8,
     "metadata": {},
     "output_type": "execute_result"
    }
   ],
   "source": [
    "model.fit(x_data, y_data, batch_size=1, epochs=100, shuffle=False)"
   ]
  },
  {
   "cell_type": "markdown",
   "metadata": {},
   "source": [
    "## 예측하기"
   ]
  },
  {
   "cell_type": "code",
   "execution_count": 22,
   "metadata": {},
   "outputs": [
    {
     "name": "stdout",
     "output_type": "stream",
     "text": [
      "[[20.499762]]\n"
     ]
    }
   ],
   "source": [
    "print(model.predict([10]))"
   ]
  },
  {
   "cell_type": "markdown",
   "metadata": {},
   "source": [
    "## 가중치 확인하기"
   ]
  },
  {
   "cell_type": "code",
   "execution_count": 23,
   "metadata": {},
   "outputs": [
    {
     "name": "stdout",
     "output_type": "stream",
     "text": [
      "a =  2.0 , b =  0.5\n"
     ]
    }
   ],
   "source": [
    "weight = model.get_weights()\n",
    "\n",
    "a = weight[0].item()\n",
    "b = weight[1].item()\n",
    "print(\"a = \", round(a,2), \", b = \", round(b,2))"
   ]
  },
  {
   "cell_type": "code",
   "execution_count": 24,
   "metadata": {},
   "outputs": [
    {
     "data": {
      "text/plain": [
       "-0.001996755599975586"
      ]
     },
     "execution_count": 24,
     "metadata": {},
     "output_type": "execute_result"
    }
   ],
   "source": [
    "error = y_data - (x_data * a + b)\n",
    "\n",
    "error.mean()"
   ]
  },
  {
   "cell_type": "markdown",
   "metadata": {},
   "source": [
    "## 모델 저장, 불러오기 그리고 사용하기\n",
    "[참고] 학습 모델 보기/저장하기/불러오기 - 김태영의 케라스 블로그\n",
    "https://tykimos.github.io/2017/06/10/Model_Save_Load/"
   ]
  },
  {
   "cell_type": "markdown",
   "metadata": {},
   "source": [
    "## 모델 저장하기"
   ]
  },
  {
   "cell_type": "code",
   "execution_count": 25,
   "metadata": {},
   "outputs": [],
   "source": [
    "#from keras.models import load_model\n",
    "model.save('slr_model.h5')"
   ]
  },
  {
   "cell_type": "markdown",
   "metadata": {},
   "source": [
    "## 모델 불러오기"
   ]
  },
  {
   "cell_type": "code",
   "execution_count": 26,
   "metadata": {},
   "outputs": [],
   "source": [
    "from tensorflow.keras.models import load_model"
   ]
  },
  {
   "cell_type": "code",
   "execution_count": 27,
   "metadata": {},
   "outputs": [],
   "source": [
    "model = load_model('slr_model.h5')"
   ]
  },
  {
   "cell_type": "markdown",
   "metadata": {},
   "source": [
    "## 모델 사용하기"
   ]
  },
  {
   "cell_type": "code",
   "execution_count": 28,
   "metadata": {},
   "outputs": [
    {
     "name": "stdout",
     "output_type": "stream",
     "text": [
      "True : 2.5, Predict : 2.5037854\n",
      "True : 4.5, Predict : 4.5033383\n",
      "True : 6.5, Predict : 6.502891\n",
      "True : 8.5, Predict : 8.502444\n",
      "True : 10.5, Predict : 10.501997\n",
      "True : 12.5, Predict : 12.50155\n",
      "True : 14.5, Predict : 14.501102\n",
      "True : 16.5, Predict : 16.500656\n",
      "True : 18.5, Predict : 18.500208\n"
     ]
    }
   ],
   "source": [
    "yhat = model.predict(x_data)\n",
    "\n",
    "yhat = np.squeeze(yhat) # 차원 축소\n",
    "\n",
    "for i in range(x_data.size):\n",
    "    print('True : ' + str(y_data[i]) + ', Predict : ' + str(yhat[i]))"
   ]
  },
  {
   "cell_type": "code",
   "execution_count": null,
   "metadata": {},
   "outputs": [],
   "source": []
  }
 ],
 "metadata": {
  "kernelspec": {
   "display_name": "Python 3 (ipykernel)",
   "language": "python",
   "name": "python3"
  },
  "language_info": {
   "codemirror_mode": {
    "name": "ipython",
    "version": 3
   },
   "file_extension": ".py",
   "mimetype": "text/x-python",
   "name": "python",
   "nbconvert_exporter": "python",
   "pygments_lexer": "ipython3",
   "version": "3.7.8"
  }
 },
 "nbformat": 4,
 "nbformat_minor": 4
}
