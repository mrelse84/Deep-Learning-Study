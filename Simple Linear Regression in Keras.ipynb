{
 "cells": [
  {
   "cell_type": "markdown",
   "metadata": {},
   "source": [
    "# Simple Linear Regression in Keras"
   ]
  },
  {
   "cell_type": "markdown",
   "metadata": {},
   "source": [
    "케라스는 딥러닝 모델을 만들기 위한 고수준의 구성 요소를 제공하는 모델 수준의 라이브러리입니다.  \n",
    "Keras는 그리스어로 뿔을 의미"
   ]
  },
  {
   "cell_type": "code",
   "execution_count": 1,
   "metadata": {},
   "outputs": [],
   "source": [
    "# tensorflow를 2.6.0  버전으로 upgrade한다\n",
    "#!pip install --upgrade tensorflow-cpu==2.6.0"
   ]
  },
  {
   "cell_type": "code",
   "execution_count": 2,
   "metadata": {},
   "outputs": [
    {
     "name": "stdout",
     "output_type": "stream",
     "text": [
      "Python Ver. :  3.7.7 (tags/v3.7.7:d7c567b08f, Mar 10 2020, 10:41:24) [MSC v.1900 64 bit (AMD64)]\n",
      "Tensorflow Ver. :  2.6.0\n"
     ]
    }
   ],
   "source": [
    "# TensorFlow and tf.keras\n",
    "import tensorflow as tf\n",
    "import tensorflow.keras.models as models\n",
    "import tensorflow.keras.layers as layers\n",
    "\n",
    "# Helper libraries\n",
    "import numpy as np\n",
    "import matplotlib.pyplot as plt\n",
    "\n",
    "import sys\n",
    "print('Python Ver. : ', sys.version)\n",
    "print('Tensorflow Ver. : ', tf.__version__)"
   ]
  },
  {
   "cell_type": "markdown",
   "metadata": {},
   "source": [
    "일차 함수 (y = ax + b)를 DL의 Neural Net으로 어떻게 모델링 할 수 있는지 테스트해 본다"
   ]
  },
  {
   "cell_type": "code",
   "execution_count": 3,
   "metadata": {},
   "outputs": [],
   "source": [
    "# y = a*x + b의 데이터 (a=2, b=0.5)\n",
    "x_data = np.array([1, 2, 3, 4, 5, 6, 7, 8, 9])\n",
    "y_data = np.array([2.5, 4.5, 6.5, 8.5, 10.5, 12.5, 14.5, 16.5, 18.5])"
   ]
  },
  {
   "cell_type": "markdown",
   "metadata": {},
   "source": [
    "## 모델 구성"
   ]
  },
  {
   "cell_type": "markdown",
   "metadata": {},
   "source": [
    "Keras로 모델을 만드는 세 가지 방법이 있다.  \n",
    "1. Sequential API\n",
    "2. Functional API\n",
    "3. Model Subclassing"
   ]
  },
  {
   "cell_type": "code",
   "execution_count": 4,
   "metadata": {},
   "outputs": [],
   "source": [
    "# Sequential API\n",
    "model = models.Sequential()\n",
    "model.add(layers.Dense(1, activation='linear', input_shape=(1,)))\n",
    "\n",
    "# 다음과 같이 묶는 방법도 있다\n",
    "#model = tf.keras.Sequential([\n",
    "#    tf.keras.layers.Dense(1, input_dim=1, activation='linear')\n",
    "#])"
   ]
  },
  {
   "cell_type": "code",
   "execution_count": 5,
   "metadata": {},
   "outputs": [],
   "source": [
    "# Functional API를 사용하는 방법은 다음과 같다\n",
    "# Functional API\n",
    "#input_tensor = layers.Input(shape=(1,))\n",
    "#output_tensor = layers.Dense(1, activation='linear')(input_tensor)\n",
    "#model = models.Model(inputs=input_tensor, outputs=output_tensor)"
   ]
  },
  {
   "cell_type": "code",
   "execution_count": 6,
   "metadata": {},
   "outputs": [
    {
     "name": "stdout",
     "output_type": "stream",
     "text": [
      "Model: \"sequential\"\n",
      "_________________________________________________________________\n",
      "Layer (type)                 Output Shape              Param #   \n",
      "=================================================================\n",
      "dense (Dense)                (None, 1)                 2         \n",
      "=================================================================\n",
      "Total params: 2\n",
      "Trainable params: 2\n",
      "Non-trainable params: 0\n",
      "_________________________________________________________________\n"
     ]
    }
   ],
   "source": [
    "# 모델의 구조 살펴 보기\n",
    "model.summary()"
   ]
  },
  {
   "cell_type": "markdown",
   "metadata": {},
   "source": [
    "## 모델 컴파일"
   ]
  },
  {
   "cell_type": "code",
   "execution_count": 7,
   "metadata": {},
   "outputs": [],
   "source": [
    "model.compile(optimizer=tf.keras.optimizers.SGD(learning_rate=0.01),\n",
    "              loss='mse',\n",
    "              metrics=['mse'])"
   ]
  },
  {
   "cell_type": "markdown",
   "metadata": {},
   "source": [
    "## 모델 훈련"
   ]
  },
  {
   "cell_type": "code",
   "execution_count": 8,
   "metadata": {},
   "outputs": [
    {
     "name": "stdout",
     "output_type": "stream",
     "text": [
      "Epoch 1/100\n",
      "9/9 [==============================] - 0s 1ms/step - loss: 16.4600 - mse: 16.4600\n",
      "Epoch 2/100\n",
      "9/9 [==============================] - 0s 1ms/step - loss: 0.0015 - mse: 0.0015\n",
      "Epoch 3/100\n",
      "9/9 [==============================] - 0s 1ms/step - loss: 0.0014 - mse: 0.0014\n",
      "Epoch 4/100\n",
      "9/9 [==============================] - 0s 1ms/step - loss: 0.0013 - mse: 0.0013\n",
      "Epoch 5/100\n",
      "9/9 [==============================] - 0s 1ms/step - loss: 0.0012 - mse: 0.0012\n",
      "Epoch 6/100\n",
      "9/9 [==============================] - 0s 1ms/step - loss: 0.0012 - mse: 0.0012\n",
      "Epoch 7/100\n",
      "9/9 [==============================] - 0s 1ms/step - loss: 0.0011 - mse: 0.0011\n",
      "Epoch 8/100\n",
      "9/9 [==============================] - 0s 1000us/step - loss: 0.0010 - mse: 0.0010\n",
      "Epoch 9/100\n",
      "9/9 [==============================] - 0s 1ms/step - loss: 9.5596e-04 - mse: 9.5596e-04\n",
      "Epoch 10/100\n",
      "9/9 [==============================] - 0s 1ms/step - loss: 8.9404e-04 - mse: 8.9404e-04\n",
      "Epoch 11/100\n",
      "9/9 [==============================] - 0s 2ms/step - loss: 8.3609e-04 - mse: 8.3609e-04\n",
      "Epoch 12/100\n",
      "9/9 [==============================] - 0s 1ms/step - loss: 7.8192e-04 - mse: 7.8192e-04\n",
      "Epoch 13/100\n",
      "9/9 [==============================] - 0s 2ms/step - loss: 7.3127e-04 - mse: 7.3127e-04\n",
      "Epoch 14/100\n",
      "9/9 [==============================] - 0s 1ms/step - loss: 6.8389e-04 - mse: 6.8389e-04\n",
      "Epoch 15/100\n",
      "9/9 [==============================] - 0s 1ms/step - loss: 6.3958e-04 - mse: 6.3958e-04\n",
      "Epoch 16/100\n",
      "9/9 [==============================] - 0s 1ms/step - loss: 5.9813e-04 - mse: 5.9813e-04\n",
      "Epoch 17/100\n",
      "9/9 [==============================] - 0s 1ms/step - loss: 5.5939e-04 - mse: 5.5939e-04\n",
      "Epoch 18/100\n",
      "9/9 [==============================] - 0s 1ms/step - loss: 5.2313e-04 - mse: 5.2313e-04\n",
      "Epoch 19/100\n",
      "9/9 [==============================] - 0s 1ms/step - loss: 4.8924e-04 - mse: 4.8924e-04\n",
      "Epoch 20/100\n",
      "9/9 [==============================] - 0s 1ms/step - loss: 4.5755e-04 - mse: 4.5755e-04\n",
      "Epoch 21/100\n",
      "9/9 [==============================] - 0s 1ms/step - loss: 4.2791e-04 - mse: 4.2791e-04\n",
      "Epoch 22/100\n",
      "9/9 [==============================] - 0s 1ms/step - loss: 4.0018e-04 - mse: 4.0018e-04\n",
      "Epoch 23/100\n",
      "9/9 [==============================] - 0s 1ms/step - loss: 3.7424e-04 - mse: 3.7424e-04\n",
      "Epoch 24/100\n",
      "9/9 [==============================] - 0s 1ms/step - loss: 3.4999e-04 - mse: 3.4999e-04\n",
      "Epoch 25/100\n",
      "9/9 [==============================] - 0s 1ms/step - loss: 3.2733e-04 - mse: 3.2733e-04\n",
      "Epoch 26/100\n",
      "9/9 [==============================] - 0s 1ms/step - loss: 3.0611e-04 - mse: 3.0611e-04\n",
      "Epoch 27/100\n",
      "9/9 [==============================] - 0s 2ms/step - loss: 2.8628e-04 - mse: 2.8628e-04\n",
      "Epoch 28/100\n",
      "9/9 [==============================] - 0s 1ms/step - loss: 2.6772e-04 - mse: 2.6772e-04\n",
      "Epoch 29/100\n",
      "9/9 [==============================] - 0s 1ms/step - loss: 2.5037e-04 - mse: 2.5037e-04\n",
      "Epoch 30/100\n",
      "9/9 [==============================] - 0s 1ms/step - loss: 2.3416e-04 - mse: 2.3416e-04\n",
      "Epoch 31/100\n",
      "9/9 [==============================] - 0s 1ms/step - loss: 2.1899e-04 - mse: 2.1899e-04\n",
      "Epoch 32/100\n",
      "9/9 [==============================] - 0s 1000us/step - loss: 2.0479e-04 - mse: 2.0479e-04\n",
      "Epoch 33/100\n",
      "9/9 [==============================] - 0s 1ms/step - loss: 1.9153e-04 - mse: 1.9153e-04\n",
      "Epoch 34/100\n",
      "9/9 [==============================] - 0s 1ms/step - loss: 1.7912e-04 - mse: 1.7912e-04\n",
      "Epoch 35/100\n",
      "9/9 [==============================] - 0s 1ms/step - loss: 1.6751e-04 - mse: 1.6751e-04\n",
      "Epoch 36/100\n",
      "9/9 [==============================] - 0s 1ms/step - loss: 1.5666e-04 - mse: 1.5666e-04\n",
      "Epoch 37/100\n",
      "9/9 [==============================] - 0s 1ms/step - loss: 1.4650e-04 - mse: 1.4650e-04\n",
      "Epoch 38/100\n",
      "9/9 [==============================] - 0s 1ms/step - loss: 1.3702e-04 - mse: 1.3702e-04\n",
      "Epoch 39/100\n",
      "9/9 [==============================] - 0s 1ms/step - loss: 1.2814e-04 - mse: 1.2814e-04\n",
      "Epoch 40/100\n",
      "9/9 [==============================] - 0s 1000us/step - loss: 1.1984e-04 - mse: 1.1984e-04\n",
      "Epoch 41/100\n",
      "9/9 [==============================] - 0s 1ms/step - loss: 1.1207e-04 - mse: 1.1207e-04\n",
      "Epoch 42/100\n",
      "9/9 [==============================] - 0s 1ms/step - loss: 1.0481e-04 - mse: 1.0481e-04\n",
      "Epoch 43/100\n",
      "9/9 [==============================] - 0s 1ms/step - loss: 9.8016e-05 - mse: 9.8016e-05\n",
      "Epoch 44/100\n",
      "9/9 [==============================] - 0s 1ms/step - loss: 9.1674e-05 - mse: 9.1674e-05\n",
      "Epoch 45/100\n",
      "9/9 [==============================] - 0s 1ms/step - loss: 8.5727e-05 - mse: 8.5727e-05\n",
      "Epoch 46/100\n",
      "9/9 [==============================] - 0s 1000us/step - loss: 8.0180e-05 - mse: 8.0180e-05\n",
      "Epoch 47/100\n",
      "9/9 [==============================] - 0s 1ms/step - loss: 7.4980e-05 - mse: 7.4980e-05\n",
      "Epoch 48/100\n",
      "9/9 [==============================] - 0s 1ms/step - loss: 7.0123e-05 - mse: 7.0123e-05\n",
      "Epoch 49/100\n",
      "9/9 [==============================] - 0s 1ms/step - loss: 6.5578e-05 - mse: 6.5578e-05\n",
      "Epoch 50/100\n",
      "9/9 [==============================] - 0s 1ms/step - loss: 6.1332e-05 - mse: 6.1332e-05\n",
      "Epoch 51/100\n",
      "9/9 [==============================] - 0s 1ms/step - loss: 5.7356e-05 - mse: 5.7356e-05\n",
      "Epoch 52/100\n",
      "9/9 [==============================] - 0s 1ms/step - loss: 5.3636e-05 - mse: 5.3636e-05\n",
      "Epoch 53/100\n",
      "9/9 [==============================] - 0s 1ms/step - loss: 5.0161e-05 - mse: 5.0161e-05\n",
      "Epoch 54/100\n",
      "9/9 [==============================] - 0s 1000us/step - loss: 4.6912e-05 - mse: 4.6912e-05\n",
      "Epoch 55/100\n",
      "9/9 [==============================] - 0s 1ms/step - loss: 4.3875e-05 - mse: 4.3875e-05\n",
      "Epoch 56/100\n",
      "9/9 [==============================] - 0s 1ms/step - loss: 4.1034e-05 - mse: 4.1034e-05\n",
      "Epoch 57/100\n",
      "9/9 [==============================] - 0s 1ms/step - loss: 3.8377e-05 - mse: 3.8377e-05\n",
      "Epoch 58/100\n",
      "9/9 [==============================] - 0s 1ms/step - loss: 3.5888e-05 - mse: 3.5888e-05\n",
      "Epoch 59/100\n",
      "9/9 [==============================] - 0s 875us/step - loss: 3.3565e-05 - mse: 3.3565e-05\n",
      "Epoch 60/100\n",
      "9/9 [==============================] - 0s 1ms/step - loss: 3.1386e-05 - mse: 3.1386e-05\n",
      "Epoch 61/100\n",
      "9/9 [==============================] - 0s 1ms/step - loss: 2.9356e-05 - mse: 2.9356e-05\n",
      "Epoch 62/100\n",
      "9/9 [==============================] - 0s 1ms/step - loss: 2.7451e-05 - mse: 2.7451e-05\n",
      "Epoch 63/100\n",
      "9/9 [==============================] - 0s 1ms/step - loss: 2.5672e-05 - mse: 2.5672e-05\n",
      "Epoch 64/100\n",
      "9/9 [==============================] - 0s 1ms/step - loss: 2.4012e-05 - mse: 2.4012e-05\n",
      "Epoch 65/100\n",
      "9/9 [==============================] - 0s 875us/step - loss: 2.2455e-05 - mse: 2.2455e-05\n",
      "Epoch 66/100\n",
      "9/9 [==============================] - 0s 1ms/step - loss: 2.0998e-05 - mse: 2.0998e-05\n",
      "Epoch 67/100\n",
      "9/9 [==============================] - 0s 1ms/step - loss: 1.9639e-05 - mse: 1.9639e-05\n",
      "Epoch 68/100\n",
      "9/9 [==============================] - ETA: 0s - loss: 7.4416e-05 - mse: 7.4416e-0 - 0s 1ms/step - loss: 1.8367e-05 - mse: 1.8367e-05\n",
      "Epoch 69/100\n",
      "9/9 [==============================] - 0s 1ms/step - loss: 1.7177e-05 - mse: 1.7177e-05\n",
      "Epoch 70/100\n",
      "9/9 [==============================] - 0s 1ms/step - loss: 1.6062e-05 - mse: 1.6062e-05\n",
      "Epoch 71/100\n",
      "9/9 [==============================] - 0s 1ms/step - loss: 1.5024e-05 - mse: 1.5024e-05\n",
      "Epoch 72/100\n",
      "9/9 [==============================] - 0s 1ms/step - loss: 1.4049e-05 - mse: 1.4049e-05\n",
      "Epoch 73/100\n",
      "9/9 [==============================] - 0s 1ms/step - loss: 1.3136e-05 - mse: 1.3136e-05\n",
      "Epoch 74/100\n",
      "9/9 [==============================] - 0s 1ms/step - loss: 1.2288e-05 - mse: 1.2288e-05\n",
      "Epoch 75/100\n",
      "9/9 [==============================] - 0s 1ms/step - loss: 1.1490e-05 - mse: 1.1490e-05\n",
      "Epoch 76/100\n",
      "9/9 [==============================] - 0s 875us/step - loss: 1.0748e-05 - mse: 1.0748e-05\n",
      "Epoch 77/100\n",
      "9/9 [==============================] - 0s 1000us/step - loss: 1.0049e-05 - mse: 1.0049e-05\n",
      "Epoch 78/100\n",
      "9/9 [==============================] - 0s 1ms/step - loss: 9.3994e-06 - mse: 9.3994e-06\n",
      "Epoch 79/100\n",
      "9/9 [==============================] - 0s 1ms/step - loss: 8.7920e-06 - mse: 8.7920e-06\n",
      "Epoch 80/100\n",
      "9/9 [==============================] - 0s 1ms/step - loss: 8.2198e-06 - mse: 8.2198e-06\n",
      "Epoch 81/100\n",
      "9/9 [==============================] - 0s 1ms/step - loss: 7.6857e-06 - mse: 7.6857e-06\n",
      "Epoch 82/100\n"
     ]
    },
    {
     "name": "stdout",
     "output_type": "stream",
     "text": [
      "9/9 [==============================] - 0s 1000us/step - loss: 7.1900e-06 - mse: 7.1900e-06\n",
      "Epoch 83/100\n",
      "9/9 [==============================] - 0s 1ms/step - loss: 6.7245e-06 - mse: 6.7245e-06\n",
      "Epoch 84/100\n",
      "9/9 [==============================] - 0s 1ms/step - loss: 6.2883e-06 - mse: 6.2883e-06\n",
      "Epoch 85/100\n",
      "9/9 [==============================] - 0s 1ms/step - loss: 5.8816e-06 - mse: 5.8816e-06\n",
      "Epoch 86/100\n",
      "9/9 [==============================] - 0s 1ms/step - loss: 5.4994e-06 - mse: 5.4994e-06\n",
      "Epoch 87/100\n",
      "9/9 [==============================] - 0s 1ms/step - loss: 5.1430e-06 - mse: 5.1430e-06\n",
      "Epoch 88/100\n",
      "9/9 [==============================] - 0s 1000us/step - loss: 4.8101e-06 - mse: 4.8101e-06\n",
      "Epoch 89/100\n",
      "9/9 [==============================] - 0s 1ms/step - loss: 4.4980e-06 - mse: 4.4980e-06\n",
      "Epoch 90/100\n",
      "9/9 [==============================] - 0s 1ms/step - loss: 4.2081e-06 - mse: 4.2081e-06\n",
      "Epoch 91/100\n",
      "9/9 [==============================] - 0s 1000us/step - loss: 3.9344e-06 - mse: 3.9344e-06\n",
      "Epoch 92/100\n",
      "9/9 [==============================] - 0s 1ms/step - loss: 3.6786e-06 - mse: 3.6786e-06\n",
      "Epoch 93/100\n",
      "9/9 [==============================] - 0s 1ms/step - loss: 3.4422e-06 - mse: 3.4422e-06\n",
      "Epoch 94/100\n",
      "9/9 [==============================] - 0s 1ms/step - loss: 3.2184e-06 - mse: 3.2184e-06\n",
      "Epoch 95/100\n",
      "9/9 [==============================] - 0s 1ms/step - loss: 3.0083e-06 - mse: 3.0083e-06\n",
      "Epoch 96/100\n",
      "9/9 [==============================] - 0s 1ms/step - loss: 2.8148e-06 - mse: 2.8148e-06\n",
      "Epoch 97/100\n",
      "9/9 [==============================] - 0s 1ms/step - loss: 2.6328e-06 - mse: 2.6328e-06\n",
      "Epoch 98/100\n",
      "9/9 [==============================] - 0s 1ms/step - loss: 2.4621e-06 - mse: 2.4621e-06\n",
      "Epoch 99/100\n",
      "9/9 [==============================] - 0s 1000us/step - loss: 2.3010e-06 - mse: 2.3010e-06\n",
      "Epoch 100/100\n",
      "9/9 [==============================] - 0s 1000us/step - loss: 2.1520e-06 - mse: 2.1520e-06\n"
     ]
    },
    {
     "data": {
      "text/plain": [
       "<keras.callbacks.History at 0x1af28a8e448>"
      ]
     },
     "execution_count": 8,
     "metadata": {},
     "output_type": "execute_result"
    }
   ],
   "source": [
    "model.fit(x_data, y_data, batch_size=1, epochs=100, shuffle=False)"
   ]
  },
  {
   "cell_type": "markdown",
   "metadata": {},
   "source": [
    "## 예측하기"
   ]
  },
  {
   "cell_type": "code",
   "execution_count": 9,
   "metadata": {},
   "outputs": [
    {
     "name": "stdout",
     "output_type": "stream",
     "text": [
      "[[20.49982]]\n"
     ]
    }
   ],
   "source": [
    "print(model.predict([10]))"
   ]
  },
  {
   "cell_type": "markdown",
   "metadata": {},
   "source": [
    "## 가중치 확인하기"
   ]
  },
  {
   "cell_type": "code",
   "execution_count": 10,
   "metadata": {},
   "outputs": [
    {
     "name": "stdout",
     "output_type": "stream",
     "text": [
      "a =  2.0 , b =  0.5\n"
     ]
    }
   ],
   "source": [
    "weight = model.get_weights()\n",
    "\n",
    "a = weight[0].item()\n",
    "b = weight[1].item()\n",
    "print(\"a = \", round(a,2), \", b = \", round(b,2))"
   ]
  },
  {
   "cell_type": "code",
   "execution_count": 11,
   "metadata": {},
   "outputs": [
    {
     "data": {
      "text/plain": [
       "-0.0015072226524353027"
      ]
     },
     "execution_count": 11,
     "metadata": {},
     "output_type": "execute_result"
    }
   ],
   "source": [
    "error = y_data - (x_data * a + b)\n",
    "\n",
    "error.mean()"
   ]
  },
  {
   "cell_type": "code",
   "execution_count": null,
   "metadata": {},
   "outputs": [],
   "source": []
  }
 ],
 "metadata": {
  "kernelspec": {
   "display_name": "Python 3",
   "language": "python",
   "name": "python3"
  },
  "language_info": {
   "codemirror_mode": {
    "name": "ipython",
    "version": 3
   },
   "file_extension": ".py",
   "mimetype": "text/x-python",
   "name": "python",
   "nbconvert_exporter": "python",
   "pygments_lexer": "ipython3",
   "version": "3.7.7"
  }
 },
 "nbformat": 4,
 "nbformat_minor": 4
}
