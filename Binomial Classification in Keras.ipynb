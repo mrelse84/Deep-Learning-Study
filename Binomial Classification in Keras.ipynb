{
 "cells": [
  {
   "cell_type": "markdown",
   "metadata": {},
   "source": [
    "# Binomial Classification in Keras"
   ]
  },
  {
   "cell_type": "code",
   "execution_count": 1,
   "metadata": {},
   "outputs": [
    {
     "name": "stdout",
     "output_type": "stream",
     "text": [
      "Python Ver. :  3.7.8 (tags/v3.7.8:4b47a5b6ba, Jun 28 2020, 08:53:46) [MSC v.1916 64 bit (AMD64)]\n",
      "Tensorflow Ver. :  2.7.0\n"
     ]
    }
   ],
   "source": [
    "# TensorFlow and tf.keras\n",
    "import tensorflow as tf\n",
    "import tensorflow.keras.models as models\n",
    "import tensorflow.keras.layers as layers\n",
    "\n",
    "# Helper libraries\n",
    "import numpy as np\n",
    "import matplotlib.pyplot as plt\n",
    "\n",
    "import sys\n",
    "print('Python Ver. : ', sys.version)\n",
    "print('Tensorflow Ver. : ', tf.__version__)"
   ]
  },
  {
   "cell_type": "markdown",
   "metadata": {},
   "source": [
    "## 데이터 로드 (defect_test_data.csv)"
   ]
  },
  {
   "cell_type": "code",
   "execution_count": 2,
   "metadata": {},
   "outputs": [],
   "source": [
    "data = np.loadtxt('defect_test_data.csv', delimiter=',', dtype=str, skiprows=1)"
   ]
  },
  {
   "cell_type": "code",
   "execution_count": 3,
   "metadata": {},
   "outputs": [
    {
     "data": {
      "text/plain": [
       "array(['11', '52Q150238RJB_2_CRACK', '0', 'CRACK', '400', '0x0', '2001',\n",
       "       '3079', '1994', '3075', '148', '17', '12', '4', '45', '0.687',\n",
       "       '0.363', '225', '56.614', '94', '58.629', '46', '153', '0',\n",
       "       'FALSE'], dtype='<U20')"
      ]
     },
     "execution_count": 3,
     "metadata": {},
     "output_type": "execute_result"
    }
   ],
   "source": [
    "# 첫 번째 데이터 값 확인\n",
    "data[0, :]"
   ]
  },
  {
   "cell_type": "code",
   "execution_count": 4,
   "metadata": {},
   "outputs": [],
   "source": [
    "# x_data와 y_data 분리\n",
    "x_data = data[:, 6:-1]\n",
    "y_data = data[:, [-1]]"
   ]
  },
  {
   "cell_type": "code",
   "execution_count": 5,
   "metadata": {},
   "outputs": [
    {
     "name": "stderr",
     "output_type": "stream",
     "text": [
      "c:\\program files (x86)\\microsoft visual studio\\shared\\python37_64\\lib\\site-packages\\ipykernel_launcher.py:2: DeprecationWarning: `np.float` is a deprecated alias for the builtin `float`. To silence this warning, use `float` by itself. Doing this will not modify any behavior and is safe. If you specifically wanted the numpy scalar type, use `np.float64` here.\n",
      "Deprecated in NumPy 1.20; for more details and guidance: https://numpy.org/devdocs/release/1.20.0-notes.html#deprecations\n",
      "  \n"
     ]
    }
   ],
   "source": [
    "# x_data의 타입 변경\n",
    "x_data = x_data.astype(np.float)"
   ]
  },
  {
   "cell_type": "code",
   "execution_count": 6,
   "metadata": {},
   "outputs": [
    {
     "data": {
      "text/plain": [
       "(55, 18)"
      ]
     },
     "execution_count": 6,
     "metadata": {},
     "output_type": "execute_result"
    }
   ],
   "source": [
    "# x_data의 형태(shape) 확인\n",
    "x_data.shape"
   ]
  },
  {
   "cell_type": "code",
   "execution_count": 7,
   "metadata": {},
   "outputs": [],
   "source": [
    "y_unique, y_int = np.unique(y_data, return_inverse=True)"
   ]
  },
  {
   "cell_type": "code",
   "execution_count": 8,
   "metadata": {},
   "outputs": [
    {
     "data": {
      "text/plain": [
       "(array(['FALSE', 'TRUE'], dtype='<U20'),\n",
       " array([0, 0, 0, 0, 1, 0, 0, 0, 1, 0, 0, 0, 0, 0, 0, 0, 0, 0, 0, 0, 0, 0,\n",
       "        0, 0, 0, 1, 0, 0, 0, 0, 0, 0, 0, 0, 0, 0, 0, 0, 0, 0, 0, 0, 0, 0,\n",
       "        0, 0, 0, 1, 0, 0, 1, 0, 0, 0, 0], dtype=int64))"
      ]
     },
     "execution_count": 8,
     "metadata": {},
     "output_type": "execute_result"
    }
   ],
   "source": [
    "y_unique, y_int"
   ]
  },
  {
   "cell_type": "markdown",
   "metadata": {},
   "source": [
    "## 모델 구성"
   ]
  },
  {
   "cell_type": "markdown",
   "metadata": {},
   "source": [
    "Keras로 모델을 만드는 세 가지 방법이 있다.  \n",
    "1. Sequential API\n",
    "2. Functional API\n",
    "3. Model Subclassing"
   ]
  },
  {
   "cell_type": "code",
   "execution_count": 9,
   "metadata": {},
   "outputs": [],
   "source": [
    "# Sequential API\n",
    "model = models.Sequential()\n",
    "model.add(layers.Dense(36, activation='relu', input_shape=(18,)))\n",
    "model.add(layers.Dense(36, activation='relu'))\n",
    "model.add(layers.Dense(1, activation='sigmoid'))"
   ]
  },
  {
   "cell_type": "code",
   "execution_count": 10,
   "metadata": {},
   "outputs": [
    {
     "name": "stdout",
     "output_type": "stream",
     "text": [
      "Model: \"sequential\"\n",
      "_________________________________________________________________\n",
      " Layer (type)                Output Shape              Param #   \n",
      "=================================================================\n",
      " dense (Dense)               (None, 36)                684       \n",
      "                                                                 \n",
      " dense_1 (Dense)             (None, 36)                1332      \n",
      "                                                                 \n",
      " dense_2 (Dense)             (None, 1)                 37        \n",
      "                                                                 \n",
      "=================================================================\n",
      "Total params: 2,053\n",
      "Trainable params: 2,053\n",
      "Non-trainable params: 0\n",
      "_________________________________________________________________\n"
     ]
    }
   ],
   "source": [
    "# 모델의 구조 살펴 보기\n",
    "model.summary()"
   ]
  },
  {
   "cell_type": "markdown",
   "metadata": {},
   "source": [
    "## 모델 컴파일"
   ]
  },
  {
   "cell_type": "code",
   "execution_count": 11,
   "metadata": {},
   "outputs": [],
   "source": [
    "model.compile(optimizer='rmsprop', loss='binary_crossentropy', metrics=['accuracy'])"
   ]
  },
  {
   "cell_type": "markdown",
   "metadata": {},
   "source": [
    "## 모델 훈련"
   ]
  },
  {
   "cell_type": "code",
   "execution_count": 22,
   "metadata": {},
   "outputs": [
    {
     "name": "stdout",
     "output_type": "stream",
     "text": [
      "Epoch 1/200\n",
      "6/6 [==============================] - 0s 400us/step - loss: 5.9808e-10 - accuracy: 1.0000\n",
      "Epoch 2/200\n",
      "6/6 [==============================] - 0s 601us/step - loss: 7.2526e-10 - accuracy: 1.0000\n",
      "Epoch 3/200\n",
      "6/6 [==============================] - 0s 601us/step - loss: 6.6133 - accuracy: 0.9636\n",
      "Epoch 4/200\n",
      "6/6 [==============================] - 0s 601us/step - loss: 17.3479 - accuracy: 0.9273\n",
      "Epoch 5/200\n",
      "6/6 [==============================] - 0s 601us/step - loss: 8.0737 - accuracy: 0.9273\n",
      "Epoch 6/200\n",
      "6/6 [==============================] - 0s 600us/step - loss: 3.3655 - accuracy: 0.9455\n",
      "Epoch 7/200\n",
      "6/6 [==============================] - 0s 600us/step - loss: 3.0160 - accuracy: 0.9455\n",
      "Epoch 8/200\n",
      "6/6 [==============================] - 0s 601us/step - loss: 5.3191 - accuracy: 0.9273\n",
      "Epoch 9/200\n",
      "6/6 [==============================] - 0s 400us/step - loss: 0.7841 - accuracy: 0.9818\n",
      "Epoch 10/200\n",
      "6/6 [==============================] - 0s 400us/step - loss: 6.3653 - accuracy: 0.9273\n",
      "Epoch 11/200\n",
      "6/6 [==============================] - 0s 400us/step - loss: 1.1887 - accuracy: 0.9636\n",
      "Epoch 12/200\n",
      "6/6 [==============================] - 0s 400us/step - loss: 2.8570 - accuracy: 0.9455\n",
      "Epoch 13/200\n",
      "6/6 [==============================] - 0s 400us/step - loss: 7.1485 - accuracy: 0.9273\n",
      "Epoch 14/200\n",
      "6/6 [==============================] - 0s 400us/step - loss: 2.0024 - accuracy: 0.9636\n",
      "Epoch 15/200\n",
      "6/6 [==============================] - 0s 400us/step - loss: 10.5737 - accuracy: 0.9455\n",
      "Epoch 16/200\n",
      "6/6 [==============================] - 0s 400us/step - loss: 5.8402 - accuracy: 0.9455\n",
      "Epoch 17/200\n",
      "6/6 [==============================] - 0s 400us/step - loss: 0.9945 - accuracy: 0.9636\n",
      "Epoch 18/200\n",
      "6/6 [==============================] - 0s 400us/step - loss: 9.4616 - accuracy: 0.9273\n",
      "Epoch 19/200\n",
      "6/6 [==============================] - 0s 400us/step - loss: 4.0407 - accuracy: 0.9455\n",
      "Epoch 20/200\n",
      "6/6 [==============================] - 0s 400us/step - loss: 3.9808 - accuracy: 0.9455\n",
      "Epoch 21/200\n",
      "6/6 [==============================] - 0s 401us/step - loss: 5.4708 - accuracy: 0.9273\n",
      "Epoch 22/200\n",
      "6/6 [==============================] - 0s 601us/step - loss: 2.5386 - accuracy: 0.9455\n",
      "Epoch 23/200\n",
      "6/6 [==============================] - 0s 601us/step - loss: 1.7250 - accuracy: 0.9818\n",
      "Epoch 24/200\n",
      "6/6 [==============================] - 0s 601us/step - loss: 3.4279e-08 - accuracy: 1.0000\n",
      "Epoch 25/200\n",
      "6/6 [==============================] - 0s 600us/step - loss: 3.4279e-08 - accuracy: 1.0000\n",
      "Epoch 26/200\n",
      "6/6 [==============================] - 0s 601us/step - loss: 3.4275e-08 - accuracy: 1.0000\n",
      "Epoch 27/200\n",
      "6/6 [==============================] - 0s 601us/step - loss: 3.4267e-08 - accuracy: 1.0000\n",
      "Epoch 28/200\n",
      "6/6 [==============================] - 0s 601us/step - loss: 3.4254e-08 - accuracy: 1.0000\n",
      "Epoch 29/200\n",
      "6/6 [==============================] - 0s 601us/step - loss: 3.4221e-08 - accuracy: 1.0000\n",
      "Epoch 30/200\n",
      "6/6 [==============================] - 0s 601us/step - loss: 3.4150e-08 - accuracy: 1.0000\n",
      "Epoch 31/200\n",
      "6/6 [==============================] - 0s 601us/step - loss: 3.4079e-08 - accuracy: 1.0000\n",
      "Epoch 32/200\n",
      "6/6 [==============================] - 0s 601us/step - loss: 3.3954e-08 - accuracy: 1.0000\n",
      "Epoch 33/200\n",
      "6/6 [==============================] - 0s 600us/step - loss: 3.3777e-08 - accuracy: 1.0000\n",
      "Epoch 34/200\n",
      "6/6 [==============================] - 0s 601us/step - loss: 3.3575e-08 - accuracy: 1.0000\n",
      "Epoch 35/200\n",
      "6/6 [==============================] - 0s 601us/step - loss: 3.3277e-08 - accuracy: 1.0000\n",
      "Epoch 36/200\n",
      "6/6 [==============================] - 0s 601us/step - loss: 3.2874e-08 - accuracy: 1.0000\n",
      "Epoch 37/200\n",
      "6/6 [==============================] - 0s 400us/step - loss: 3.2332e-08 - accuracy: 1.0000\n",
      "Epoch 38/200\n",
      "6/6 [==============================] - 0s 601us/step - loss: 3.1637e-08 - accuracy: 1.0000\n",
      "Epoch 39/200\n",
      "6/6 [==============================] - 0s 601us/step - loss: 3.0713e-08 - accuracy: 1.0000\n",
      "Epoch 40/200\n",
      "6/6 [==============================] - 0s 601us/step - loss: 2.9515e-08 - accuracy: 1.0000\n",
      "Epoch 41/200\n",
      "6/6 [==============================] - 0s 600us/step - loss: 2.7995e-08 - accuracy: 1.0000\n",
      "Epoch 42/200\n",
      "6/6 [==============================] - 0s 601us/step - loss: 2.6126e-08 - accuracy: 1.0000\n",
      "Epoch 43/200\n",
      "6/6 [==============================] - 0s 600us/step - loss: 2.3972e-08 - accuracy: 1.0000\n",
      "Epoch 44/200\n",
      "6/6 [==============================] - 0s 601us/step - loss: 2.1457e-08 - accuracy: 1.0000\n",
      "Epoch 45/200\n",
      "6/6 [==============================] - 0s 600us/step - loss: 1.8738e-08 - accuracy: 1.0000\n",
      "Epoch 46/200\n",
      "6/6 [==============================] - 0s 601us/step - loss: 1.5922e-08 - accuracy: 1.0000\n",
      "Epoch 47/200\n",
      "6/6 [==============================] - 0s 601us/step - loss: 1.3147e-08 - accuracy: 1.0000\n",
      "Epoch 48/200\n",
      "6/6 [==============================] - 0s 601us/step - loss: 1.0561e-08 - accuracy: 1.0000\n",
      "Epoch 49/200\n",
      "6/6 [==============================] - 0s 400us/step - loss: 8.3056e-09 - accuracy: 1.0000\n",
      "Epoch 50/200\n",
      "6/6 [==============================] - 0s 400us/step - loss: 6.4882e-09 - accuracy: 1.0000\n",
      "Epoch 51/200\n",
      "6/6 [==============================] - 0s 601us/step - loss: 4.8928e-09 - accuracy: 1.0000\n",
      "Epoch 52/200\n",
      "6/6 [==============================] - 0s 600us/step - loss: 3.5888e-09 - accuracy: 1.0000\n",
      "Epoch 53/200\n",
      "6/6 [==============================] - 0s 601us/step - loss: 2.6087e-09 - accuracy: 1.0000\n",
      "Epoch 54/200\n",
      "6/6 [==============================] - 0s 401us/step - loss: 1.9486e-09 - accuracy: 1.0000\n",
      "Epoch 55/200\n",
      "6/6 [==============================] - 0s 400us/step - loss: 1.5954e-09 - accuracy: 1.0000\n",
      "Epoch 56/200\n",
      "6/6 [==============================] - 0s 400us/step - loss: 1.2128e-09 - accuracy: 1.0000\n",
      "Epoch 57/200\n",
      "6/6 [==============================] - 0s 601us/step - loss: 8.3246e-10 - accuracy: 1.0000\n",
      "Epoch 58/200\n",
      "6/6 [==============================] - 0s 601us/step - loss: 4.9666e-10 - accuracy: 1.0000\n",
      "Epoch 59/200\n",
      "6/6 [==============================] - 0s 400us/step - loss: 4.9666e-10 - accuracy: 1.0000\n",
      "Epoch 60/200\n",
      "6/6 [==============================] - 0s 400us/step - loss: 4.9666e-10 - accuracy: 1.0000\n",
      "Epoch 61/200\n",
      "6/6 [==============================] - 0s 400us/step - loss: 4.9666e-10 - accuracy: 1.0000\n",
      "Epoch 62/200\n",
      "6/6 [==============================] - 0s 400us/step - loss: 4.9666e-10 - accuracy: 1.0000\n",
      "Epoch 63/200\n",
      "6/6 [==============================] - 0s 400us/step - loss: 4.9666e-10 - accuracy: 1.0000\n",
      "Epoch 64/200\n",
      "6/6 [==============================] - 0s 400us/step - loss: 4.9666e-10 - accuracy: 1.0000\n",
      "Epoch 65/200\n",
      "6/6 [==============================] - 0s 601us/step - loss: 4.9666e-10 - accuracy: 1.0000\n",
      "Epoch 66/200\n",
      "6/6 [==============================] - 0s 400us/step - loss: 4.9666e-10 - accuracy: 1.0000\n",
      "Epoch 67/200\n",
      "6/6 [==============================] - 0s 600us/step - loss: 4.9666e-10 - accuracy: 1.0000\n",
      "Epoch 68/200\n",
      "6/6 [==============================] - 0s 600us/step - loss: 4.9666e-10 - accuracy: 1.0000\n",
      "Epoch 69/200\n",
      "6/6 [==============================] - 0s 601us/step - loss: 4.9666e-10 - accuracy: 1.0000\n",
      "Epoch 70/200\n",
      "6/6 [==============================] - 0s 600us/step - loss: 4.9666e-10 - accuracy: 1.0000\n",
      "Epoch 71/200\n",
      "6/6 [==============================] - 0s 601us/step - loss: 4.9666e-10 - accuracy: 1.0000\n",
      "Epoch 72/200\n",
      "6/6 [==============================] - 0s 601us/step - loss: 4.9666e-10 - accuracy: 1.0000\n",
      "Epoch 73/200\n",
      "6/6 [==============================] - 0s 601us/step - loss: 4.9666e-10 - accuracy: 1.0000\n",
      "Epoch 74/200\n",
      "6/6 [==============================] - 0s 600us/step - loss: 4.9666e-10 - accuracy: 1.0000\n",
      "Epoch 75/200\n",
      "6/6 [==============================] - 0s 600us/step - loss: 4.9666e-10 - accuracy: 1.0000\n",
      "Epoch 76/200\n",
      "6/6 [==============================] - 0s 601us/step - loss: 4.9666e-10 - accuracy: 1.0000\n",
      "Epoch 77/200\n",
      "6/6 [==============================] - 0s 600us/step - loss: 4.9666e-10 - accuracy: 1.0000\n",
      "Epoch 78/200\n",
      "6/6 [==============================] - 0s 400us/step - loss: 4.9666e-10 - accuracy: 1.0000\n",
      "Epoch 79/200\n",
      "6/6 [==============================] - 0s 400us/step - loss: 4.9666e-10 - accuracy: 1.0000\n",
      "Epoch 80/200\n"
     ]
    },
    {
     "name": "stdout",
     "output_type": "stream",
     "text": [
      "6/6 [==============================] - 0s 600us/step - loss: 4.9666e-10 - accuracy: 1.0000\n",
      "Epoch 81/200\n",
      "6/6 [==============================] - 0s 400us/step - loss: 4.9666e-10 - accuracy: 1.0000\n",
      "Epoch 82/200\n",
      "6/6 [==============================] - 0s 400us/step - loss: 4.9666e-10 - accuracy: 1.0000\n",
      "Epoch 83/200\n",
      "6/6 [==============================] - 0s 600us/step - loss: 4.9666e-10 - accuracy: 1.0000\n",
      "Epoch 84/200\n",
      "6/6 [==============================] - 0s 600us/step - loss: 4.9666e-10 - accuracy: 1.0000\n",
      "Epoch 85/200\n",
      "6/6 [==============================] - 0s 601us/step - loss: 4.9666e-10 - accuracy: 1.0000\n",
      "Epoch 86/200\n",
      "6/6 [==============================] - 0s 601us/step - loss: 4.9666e-10 - accuracy: 1.0000\n",
      "Epoch 87/200\n",
      "6/6 [==============================] - 0s 400us/step - loss: 4.9666e-10 - accuracy: 1.0000\n",
      "Epoch 88/200\n",
      "6/6 [==============================] - 0s 400us/step - loss: 4.9666e-10 - accuracy: 1.0000\n",
      "Epoch 89/200\n",
      "6/6 [==============================] - 0s 400us/step - loss: 4.9666e-10 - accuracy: 1.0000\n",
      "Epoch 90/200\n",
      "6/6 [==============================] - 0s 401us/step - loss: 4.9666e-10 - accuracy: 1.0000\n",
      "Epoch 91/200\n",
      "6/6 [==============================] - 0s 400us/step - loss: 4.9666e-10 - accuracy: 1.0000\n",
      "Epoch 92/200\n",
      "6/6 [==============================] - 0s 400us/step - loss: 4.9666e-10 - accuracy: 1.0000\n",
      "Epoch 93/200\n",
      "6/6 [==============================] - 0s 400us/step - loss: 4.9666e-10 - accuracy: 1.0000\n",
      "Epoch 94/200\n",
      "6/6 [==============================] - 0s 600us/step - loss: 4.9666e-10 - accuracy: 1.0000\n",
      "Epoch 95/200\n",
      "6/6 [==============================] - 0s 600us/step - loss: 4.9666e-10 - accuracy: 1.0000\n",
      "Epoch 96/200\n",
      "6/6 [==============================] - 0s 600us/step - loss: 4.9666e-10 - accuracy: 1.0000\n",
      "Epoch 97/200\n",
      "6/6 [==============================] - 0s 601us/step - loss: 4.9666e-10 - accuracy: 1.0000\n",
      "Epoch 98/200\n",
      "6/6 [==============================] - 0s 601us/step - loss: 4.9666e-10 - accuracy: 1.0000\n",
      "Epoch 99/200\n",
      "6/6 [==============================] - 0s 601us/step - loss: 4.9666e-10 - accuracy: 1.0000\n",
      "Epoch 100/200\n",
      "6/6 [==============================] - 0s 601us/step - loss: 4.9666e-10 - accuracy: 1.0000\n",
      "Epoch 101/200\n",
      "6/6 [==============================] - 0s 601us/step - loss: 4.9666e-10 - accuracy: 1.0000\n",
      "Epoch 102/200\n",
      "6/6 [==============================] - 0s 601us/step - loss: 4.9666e-10 - accuracy: 1.0000\n",
      "Epoch 103/200\n",
      "6/6 [==============================] - 0s 601us/step - loss: 4.9666e-10 - accuracy: 1.0000\n",
      "Epoch 104/200\n",
      "6/6 [==============================] - 0s 601us/step - loss: 4.9666e-10 - accuracy: 1.0000\n",
      "Epoch 105/200\n",
      "6/6 [==============================] - 0s 601us/step - loss: 4.9666e-10 - accuracy: 1.0000\n",
      "Epoch 106/200\n",
      "6/6 [==============================] - 0s 600us/step - loss: 4.9666e-10 - accuracy: 1.0000\n",
      "Epoch 107/200\n",
      "6/6 [==============================] - 0s 601us/step - loss: 4.9666e-10 - accuracy: 1.0000\n",
      "Epoch 108/200\n",
      "6/6 [==============================] - 0s 601us/step - loss: 4.9666e-10 - accuracy: 1.0000\n",
      "Epoch 109/200\n",
      "6/6 [==============================] - 0s 601us/step - loss: 4.9666e-10 - accuracy: 1.0000\n",
      "Epoch 110/200\n",
      "6/6 [==============================] - 0s 601us/step - loss: 4.9666e-10 - accuracy: 1.0000\n",
      "Epoch 111/200\n",
      "6/6 [==============================] - 0s 600us/step - loss: 4.9666e-10 - accuracy: 1.0000\n",
      "Epoch 112/200\n",
      "6/6 [==============================] - 0s 601us/step - loss: 4.9666e-10 - accuracy: 1.0000\n",
      "Epoch 113/200\n",
      "6/6 [==============================] - 0s 601us/step - loss: 4.9666e-10 - accuracy: 1.0000\n",
      "Epoch 114/200\n",
      "6/6 [==============================] - 0s 601us/step - loss: 4.9666e-10 - accuracy: 1.0000\n",
      "Epoch 115/200\n",
      "6/6 [==============================] - 0s 601us/step - loss: 4.9666e-10 - accuracy: 1.0000\n",
      "Epoch 116/200\n",
      "6/6 [==============================] - 0s 601us/step - loss: 4.9666e-10 - accuracy: 1.0000\n",
      "Epoch 117/200\n",
      "6/6 [==============================] - 0s 601us/step - loss: 4.9666e-10 - accuracy: 1.0000\n",
      "Epoch 118/200\n",
      "6/6 [==============================] - 0s 601us/step - loss: 4.9666e-10 - accuracy: 1.0000\n",
      "Epoch 119/200\n",
      "6/6 [==============================] - 0s 601us/step - loss: 4.9666e-10 - accuracy: 1.0000\n",
      "Epoch 120/200\n",
      "6/6 [==============================] - 0s 400us/step - loss: 4.9666e-10 - accuracy: 1.0000\n",
      "Epoch 121/200\n",
      "6/6 [==============================] - 0s 601us/step - loss: 4.9666e-10 - accuracy: 1.0000\n",
      "Epoch 122/200\n",
      "6/6 [==============================] - 0s 601us/step - loss: 4.9666e-10 - accuracy: 1.0000\n",
      "Epoch 123/200\n",
      "6/6 [==============================] - 0s 400us/step - loss: 4.9666e-10 - accuracy: 1.0000\n",
      "Epoch 124/200\n",
      "6/6 [==============================] - 0s 400us/step - loss: 4.9666e-10 - accuracy: 1.0000\n",
      "Epoch 125/200\n",
      "6/6 [==============================] - 0s 400us/step - loss: 4.9666e-10 - accuracy: 1.0000\n",
      "Epoch 126/200\n",
      "6/6 [==============================] - 0s 601us/step - loss: 4.9666e-10 - accuracy: 1.0000\n",
      "Epoch 127/200\n",
      "6/6 [==============================] - 0s 601us/step - loss: 4.9666e-10 - accuracy: 1.0000\n",
      "Epoch 128/200\n",
      "6/6 [==============================] - 0s 600us/step - loss: 4.9666e-10 - accuracy: 1.0000\n",
      "Epoch 129/200\n",
      "6/6 [==============================] - 0s 601us/step - loss: 4.9666e-10 - accuracy: 1.0000\n",
      "Epoch 130/200\n",
      "6/6 [==============================] - 0s 600us/step - loss: 4.9666e-10 - accuracy: 1.0000\n",
      "Epoch 131/200\n",
      "6/6 [==============================] - 0s 601us/step - loss: 4.9666e-10 - accuracy: 1.0000\n",
      "Epoch 132/200\n",
      "6/6 [==============================] - 0s 600us/step - loss: 4.9666e-10 - accuracy: 1.0000\n",
      "Epoch 133/200\n",
      "6/6 [==============================] - 0s 601us/step - loss: 4.9666e-10 - accuracy: 1.0000\n",
      "Epoch 134/200\n",
      "6/6 [==============================] - 0s 601us/step - loss: 4.9666e-10 - accuracy: 1.0000\n",
      "Epoch 135/200\n",
      "6/6 [==============================] - 0s 601us/step - loss: 4.9666e-10 - accuracy: 1.0000\n",
      "Epoch 136/200\n",
      "6/6 [==============================] - 0s 601us/step - loss: 4.9666e-10 - accuracy: 1.0000\n",
      "Epoch 137/200\n",
      "6/6 [==============================] - 0s 400us/step - loss: 4.9666e-10 - accuracy: 1.0000\n",
      "Epoch 138/200\n",
      "6/6 [==============================] - 0s 601us/step - loss: 4.9666e-10 - accuracy: 1.0000\n",
      "Epoch 139/200\n",
      "6/6 [==============================] - 0s 601us/step - loss: 4.9666e-10 - accuracy: 1.0000\n",
      "Epoch 140/200\n",
      "6/6 [==============================] - 0s 601us/step - loss: 4.9666e-10 - accuracy: 1.0000\n",
      "Epoch 141/200\n",
      "6/6 [==============================] - 0s 600us/step - loss: 4.9666e-10 - accuracy: 1.0000\n",
      "Epoch 142/200\n",
      "6/6 [==============================] - 0s 601us/step - loss: 4.9666e-10 - accuracy: 1.0000\n",
      "Epoch 143/200\n",
      "6/6 [==============================] - 0s 601us/step - loss: 4.9666e-10 - accuracy: 1.0000\n",
      "Epoch 144/200\n",
      "6/6 [==============================] - 0s 601us/step - loss: 4.9666e-10 - accuracy: 1.0000\n",
      "Epoch 145/200\n",
      "6/6 [==============================] - 0s 600us/step - loss: 4.9666e-10 - accuracy: 1.0000\n",
      "Epoch 146/200\n",
      "6/6 [==============================] - 0s 601us/step - loss: 4.9666e-10 - accuracy: 1.0000\n",
      "Epoch 147/200\n",
      "6/6 [==============================] - 0s 600us/step - loss: 4.9666e-10 - accuracy: 1.0000\n",
      "Epoch 148/200\n",
      "6/6 [==============================] - 0s 600us/step - loss: 4.9666e-10 - accuracy: 1.0000\n",
      "Epoch 149/200\n",
      "6/6 [==============================] - 0s 600us/step - loss: 4.9666e-10 - accuracy: 1.0000\n",
      "Epoch 150/200\n",
      "6/6 [==============================] - 0s 400us/step - loss: 4.9666e-10 - accuracy: 1.0000\n",
      "Epoch 151/200\n",
      "6/6 [==============================] - 0s 400us/step - loss: 4.9666e-10 - accuracy: 1.0000\n",
      "Epoch 152/200\n",
      "6/6 [==============================] - 0s 400us/step - loss: 4.9666e-10 - accuracy: 1.0000\n",
      "Epoch 153/200\n",
      "6/6 [==============================] - 0s 400us/step - loss: 4.9666e-10 - accuracy: 1.0000\n",
      "Epoch 154/200\n",
      "6/6 [==============================] - 0s 600us/step - loss: 4.9666e-10 - accuracy: 1.0000\n",
      "Epoch 155/200\n",
      "6/6 [==============================] - 0s 601us/step - loss: 4.9666e-10 - accuracy: 1.0000\n",
      "Epoch 156/200\n",
      "6/6 [==============================] - 0s 601us/step - loss: 4.9666e-10 - accuracy: 1.0000\n",
      "Epoch 157/200\n",
      "6/6 [==============================] - 0s 600us/step - loss: 4.9666e-10 - accuracy: 1.0000\n",
      "Epoch 158/200\n"
     ]
    },
    {
     "name": "stdout",
     "output_type": "stream",
     "text": [
      "6/6 [==============================] - 0s 600us/step - loss: 4.9666e-10 - accuracy: 1.0000\n",
      "Epoch 159/200\n",
      "6/6 [==============================] - 0s 601us/step - loss: 4.9666e-10 - accuracy: 1.0000\n",
      "Epoch 160/200\n",
      "6/6 [==============================] - 0s 600us/step - loss: 4.9666e-10 - accuracy: 1.0000\n",
      "Epoch 161/200\n",
      "6/6 [==============================] - 0s 600us/step - loss: 4.9666e-10 - accuracy: 1.0000\n",
      "Epoch 162/200\n",
      "6/6 [==============================] - 0s 601us/step - loss: 4.9666e-10 - accuracy: 1.0000\n",
      "Epoch 163/200\n",
      "6/6 [==============================] - 0s 601us/step - loss: 4.9666e-10 - accuracy: 1.0000\n",
      "Epoch 164/200\n",
      "6/6 [==============================] - 0s 600us/step - loss: 4.9666e-10 - accuracy: 1.0000\n",
      "Epoch 165/200\n",
      "6/6 [==============================] - 0s 601us/step - loss: 4.9666e-10 - accuracy: 1.0000\n",
      "Epoch 166/200\n",
      "6/6 [==============================] - 0s 601us/step - loss: 4.9666e-10 - accuracy: 1.0000\n",
      "Epoch 167/200\n",
      "6/6 [==============================] - 0s 600us/step - loss: 4.9666e-10 - accuracy: 1.0000\n",
      "Epoch 168/200\n",
      "6/6 [==============================] - 0s 601us/step - loss: 4.9666e-10 - accuracy: 1.0000\n",
      "Epoch 169/200\n",
      "6/6 [==============================] - 0s 600us/step - loss: 4.9666e-10 - accuracy: 1.0000\n",
      "Epoch 170/200\n",
      "6/6 [==============================] - 0s 600us/step - loss: 4.9666e-10 - accuracy: 1.0000\n",
      "Epoch 171/200\n",
      "6/6 [==============================] - 0s 600us/step - loss: 4.9666e-10 - accuracy: 1.0000\n",
      "Epoch 172/200\n",
      "6/6 [==============================] - 0s 400us/step - loss: 4.9666e-10 - accuracy: 1.0000\n",
      "Epoch 173/200\n",
      "6/6 [==============================] - 0s 400us/step - loss: 4.9666e-10 - accuracy: 1.0000\n",
      "Epoch 174/200\n",
      "6/6 [==============================] - 0s 400us/step - loss: 4.9666e-10 - accuracy: 1.0000\n",
      "Epoch 175/200\n",
      "6/6 [==============================] - 0s 400us/step - loss: 4.9666e-10 - accuracy: 1.0000\n",
      "Epoch 176/200\n",
      "6/6 [==============================] - 0s 601us/step - loss: 4.9666e-10 - accuracy: 1.0000\n",
      "Epoch 177/200\n",
      "6/6 [==============================] - 0s 600us/step - loss: 4.9666e-10 - accuracy: 1.0000\n",
      "Epoch 178/200\n",
      "6/6 [==============================] - 0s 601us/step - loss: 4.9666e-10 - accuracy: 1.0000\n",
      "Epoch 179/200\n",
      "6/6 [==============================] - 0s 600us/step - loss: 4.9666e-10 - accuracy: 1.0000\n",
      "Epoch 180/200\n",
      "6/6 [==============================] - 0s 601us/step - loss: 4.9666e-10 - accuracy: 1.0000\n",
      "Epoch 181/200\n",
      "6/6 [==============================] - 0s 600us/step - loss: 4.9666e-10 - accuracy: 1.0000\n",
      "Epoch 182/200\n",
      "6/6 [==============================] - 0s 601us/step - loss: 4.9666e-10 - accuracy: 1.0000\n",
      "Epoch 183/200\n",
      "6/6 [==============================] - 0s 601us/step - loss: 4.9666e-10 - accuracy: 1.0000\n",
      "Epoch 184/200\n",
      "6/6 [==============================] - 0s 601us/step - loss: 4.9666e-10 - accuracy: 1.0000\n",
      "Epoch 185/200\n",
      "6/6 [==============================] - 0s 400us/step - loss: 4.9666e-10 - accuracy: 1.0000\n",
      "Epoch 186/200\n",
      "6/6 [==============================] - 0s 400us/step - loss: 4.9666e-10 - accuracy: 1.0000\n",
      "Epoch 187/200\n",
      "6/6 [==============================] - 0s 400us/step - loss: 4.9666e-10 - accuracy: 1.0000\n",
      "Epoch 188/200\n",
      "6/6 [==============================] - 0s 400us/step - loss: 4.9666e-10 - accuracy: 1.0000\n",
      "Epoch 189/200\n",
      "6/6 [==============================] - 0s 400us/step - loss: 4.9666e-10 - accuracy: 1.0000\n",
      "Epoch 190/200\n",
      "6/6 [==============================] - 0s 400us/step - loss: 4.9666e-10 - accuracy: 1.0000\n",
      "Epoch 191/200\n",
      "6/6 [==============================] - 0s 601us/step - loss: 4.9666e-10 - accuracy: 1.0000\n",
      "Epoch 192/200\n",
      "6/6 [==============================] - 0s 601us/step - loss: 4.9666e-10 - accuracy: 1.0000\n",
      "Epoch 193/200\n",
      "6/6 [==============================] - 0s 601us/step - loss: 4.9666e-10 - accuracy: 1.0000\n",
      "Epoch 194/200\n",
      "6/6 [==============================] - 0s 601us/step - loss: 4.9666e-10 - accuracy: 1.0000\n",
      "Epoch 195/200\n",
      "6/6 [==============================] - 0s 600us/step - loss: 4.9666e-10 - accuracy: 1.0000\n",
      "Epoch 196/200\n",
      "6/6 [==============================] - 0s 601us/step - loss: 4.9666e-10 - accuracy: 1.0000\n",
      "Epoch 197/200\n",
      "6/6 [==============================] - 0s 601us/step - loss: 4.9666e-10 - accuracy: 1.0000\n",
      "Epoch 198/200\n",
      "6/6 [==============================] - 0s 600us/step - loss: 4.9666e-10 - accuracy: 1.0000\n",
      "Epoch 199/200\n",
      "6/6 [==============================] - 0s 400us/step - loss: 4.9666e-10 - accuracy: 1.0000\n",
      "Epoch 200/200\n",
      "6/6 [==============================] - 0s 400us/step - loss: 4.9666e-10 - accuracy: 1.0000\n"
     ]
    },
    {
     "data": {
      "text/plain": [
       "<keras.callbacks.History at 0x1636379c4c8>"
      ]
     },
     "execution_count": 22,
     "metadata": {},
     "output_type": "execute_result"
    }
   ],
   "source": [
    "model.fit(x_data, y_int, batch_size=10, epochs=200, shuffle=False)"
   ]
  },
  {
   "cell_type": "markdown",
   "metadata": {},
   "source": [
    "## 예측하기"
   ]
  },
  {
   "cell_type": "code",
   "execution_count": 23,
   "metadata": {},
   "outputs": [],
   "source": [
    "y_predict = model.predict(x_data) > 0.5 # 0.5 보다 크면 True, 아니면 False\n",
    "y_predict = y_predict + 0 # Convert boolean to int\n",
    "y_predict = np.squeeze(y_predict) # 차원 축소"
   ]
  },
  {
   "cell_type": "code",
   "execution_count": 24,
   "metadata": {},
   "outputs": [
    {
     "data": {
      "text/plain": [
       "array([0, 0, 0, 0, 1, 0, 0, 0, 1, 0, 0, 0, 0, 0, 0, 0, 0, 0, 0, 0, 0, 0,\n",
       "       0, 0, 0, 1, 0, 0, 0, 0, 0, 0, 0, 0, 0, 0, 0, 0, 0, 0, 0, 0, 0, 0,\n",
       "       0, 0, 0, 1, 0, 0, 1, 0, 0, 0, 0])"
      ]
     },
     "execution_count": 24,
     "metadata": {},
     "output_type": "execute_result"
    }
   ],
   "source": [
    "y_predict"
   ]
  },
  {
   "cell_type": "code",
   "execution_count": 25,
   "metadata": {},
   "outputs": [
    {
     "data": {
      "text/plain": [
       "array([0, 0, 0, 0, 1, 0, 0, 0, 1, 0, 0, 0, 0, 0, 0, 0, 0, 0, 0, 0, 0, 0,\n",
       "       0, 0, 0, 1, 0, 0, 0, 0, 0, 0, 0, 0, 0, 0, 0, 0, 0, 0, 0, 0, 0, 0,\n",
       "       0, 0, 0, 1, 0, 0, 1, 0, 0, 0, 0], dtype=int64)"
      ]
     },
     "execution_count": 25,
     "metadata": {},
     "output_type": "execute_result"
    }
   ],
   "source": [
    "y_int"
   ]
  },
  {
   "cell_type": "code",
   "execution_count": 26,
   "metadata": {},
   "outputs": [
    {
     "data": {
      "text/plain": [
       "array([0, 0, 0, 0, 0, 0, 0, 0, 0, 0, 0, 0, 0, 0, 0, 0, 0, 0, 0, 0, 0, 0,\n",
       "       0, 0, 0, 0, 0, 0, 0, 0, 0, 0, 0, 0, 0, 0, 0, 0, 0, 0, 0, 0, 0, 0,\n",
       "       0, 0, 0, 0, 0, 0, 0, 0, 0, 0, 0], dtype=int64)"
      ]
     },
     "execution_count": 26,
     "metadata": {},
     "output_type": "execute_result"
    }
   ],
   "source": [
    "y_int - y_predict"
   ]
  },
  {
   "cell_type": "code",
   "execution_count": 50,
   "metadata": {},
   "outputs": [],
   "source": [
    "# 데이터 한 개 예측하기\n",
    "y_predict_one = model.predict(x_data[4,:].reshape(1,18))"
   ]
  },
  {
   "cell_type": "code",
   "execution_count": 51,
   "metadata": {},
   "outputs": [
    {
     "data": {
      "text/plain": [
       "array([[1.]], dtype=float32)"
      ]
     },
     "execution_count": 51,
     "metadata": {},
     "output_type": "execute_result"
    }
   ],
   "source": [
    "y_predict_one"
   ]
  },
  {
   "cell_type": "markdown",
   "metadata": {},
   "source": [
    "## 모델 저장하기"
   ]
  },
  {
   "cell_type": "code",
   "execution_count": 52,
   "metadata": {},
   "outputs": [],
   "source": [
    "#from keras.models import load_model\n",
    "model.save('bc_model.h5')"
   ]
  },
  {
   "cell_type": "code",
   "execution_count": null,
   "metadata": {},
   "outputs": [],
   "source": []
  }
 ],
 "metadata": {
  "kernelspec": {
   "display_name": "Python 3 (ipykernel)",
   "language": "python",
   "name": "python3"
  },
  "language_info": {
   "codemirror_mode": {
    "name": "ipython",
    "version": 3
   },
   "file_extension": ".py",
   "mimetype": "text/x-python",
   "name": "python",
   "nbconvert_exporter": "python",
   "pygments_lexer": "ipython3",
   "version": "3.7.8"
  }
 },
 "nbformat": 4,
 "nbformat_minor": 4
}
