{
 "cells": [
  {
   "cell_type": "markdown",
   "metadata": {},
   "source": [
    "# Binomial Classification in Keras"
   ]
  },
  {
   "cell_type": "code",
   "execution_count": 16,
   "metadata": {},
   "outputs": [
    {
     "name": "stdout",
     "output_type": "stream",
     "text": [
      "Python Ver. :  3.7.7 (tags/v3.7.7:d7c567b08f, Mar 10 2020, 10:41:24) [MSC v.1900 64 bit (AMD64)]\n",
      "Tensorflow Ver. :  2.6.0\n"
     ]
    }
   ],
   "source": [
    "# TensorFlow and tf.keras\n",
    "import tensorflow as tf\n",
    "import tensorflow.keras.models as models\n",
    "import tensorflow.keras.layers as layers\n",
    "\n",
    "# Helper libraries\n",
    "import numpy as np\n",
    "import matplotlib.pyplot as plt\n",
    "\n",
    "import sys\n",
    "print('Python Ver. : ', sys.version)\n",
    "print('Tensorflow Ver. : ', tf.__version__)"
   ]
  },
  {
   "cell_type": "markdown",
   "metadata": {},
   "source": [
    "## 데이터 로드 (defect_test_data.csv)"
   ]
  },
  {
   "cell_type": "code",
   "execution_count": 22,
   "metadata": {},
   "outputs": [],
   "source": [
    "data = np.loadtxt('defect_test_data.csv', delimiter=',', dtype=str, skiprows=1)"
   ]
  },
  {
   "cell_type": "code",
   "execution_count": 49,
   "metadata": {},
   "outputs": [
    {
     "data": {
      "text/plain": [
       "array(['11', '52Q150238RJB_2_CRACK', '0', 'CRACK', '400', '0x0', '2001',\n",
       "       '3079', '1994', '3075', '148', '17', '12', '4', '45', '0.687',\n",
       "       '0.363', '225', '56.614', '94', '58.629', '46', '153', '0',\n",
       "       'FALSE'], dtype='<U20')"
      ]
     },
     "execution_count": 49,
     "metadata": {},
     "output_type": "execute_result"
    }
   ],
   "source": [
    "# 첫 번째 데이터 값 확인\n",
    "data[0, :]"
   ]
  },
  {
   "cell_type": "code",
   "execution_count": 50,
   "metadata": {},
   "outputs": [],
   "source": [
    "# x_data와 y_data 분리\n",
    "x_data = data[:, 6:-1]\n",
    "y_data = data[:, [-1]]"
   ]
  },
  {
   "cell_type": "code",
   "execution_count": 51,
   "metadata": {},
   "outputs": [],
   "source": [
    "# x_data의 타입 변경\n",
    "x_data = x_data.astype(np.float)"
   ]
  },
  {
   "cell_type": "code",
   "execution_count": 52,
   "metadata": {},
   "outputs": [
    {
     "data": {
      "text/plain": [
       "(55, 18)"
      ]
     },
     "execution_count": 52,
     "metadata": {},
     "output_type": "execute_result"
    }
   ],
   "source": [
    "# x_data의 형태(shape) 확인\n",
    "x_data.shape"
   ]
  },
  {
   "cell_type": "code",
   "execution_count": 39,
   "metadata": {},
   "outputs": [],
   "source": [
    "y_unique, y_int = np.unique(y_data, return_inverse=True)"
   ]
  },
  {
   "cell_type": "code",
   "execution_count": 40,
   "metadata": {},
   "outputs": [
    {
     "data": {
      "text/plain": [
       "(array(['FALSE', 'TRUE'], dtype='<U20'),\n",
       " array([0, 0, 0, 0, 1, 0, 0, 0, 1, 0, 0, 0, 0, 0, 0, 0, 0, 0, 0, 0, 0, 0,\n",
       "        0, 0, 0, 1, 0, 0, 0, 0, 0, 0, 0, 0, 0, 0, 0, 0, 0, 0, 0, 0, 0, 0,\n",
       "        0, 0, 0, 1, 0, 0, 1, 0, 0, 0, 0], dtype=int64))"
      ]
     },
     "execution_count": 40,
     "metadata": {},
     "output_type": "execute_result"
    }
   ],
   "source": [
    "y_unique, y_int"
   ]
  },
  {
   "cell_type": "markdown",
   "metadata": {},
   "source": [
    "## 모델 구성"
   ]
  },
  {
   "cell_type": "markdown",
   "metadata": {},
   "source": [
    "Keras로 모델을 만드는 세 가지 방법이 있다.  \n",
    "1. Sequential API\n",
    "2. Functional API\n",
    "3. Model Subclassing"
   ]
  },
  {
   "cell_type": "code",
   "execution_count": 35,
   "metadata": {},
   "outputs": [],
   "source": [
    "# Sequential API\n",
    "model = models.Sequential()\n",
    "model.add(layers.Dense(36, activation='relu', input_shape=(18,)))\n",
    "model.add(layers.Dense(36, activation='relu'))\n",
    "model.add(layers.Dense(1, activation='sigmoid'))"
   ]
  },
  {
   "cell_type": "code",
   "execution_count": 36,
   "metadata": {},
   "outputs": [
    {
     "name": "stdout",
     "output_type": "stream",
     "text": [
      "Model: \"sequential_1\"\n",
      "_________________________________________________________________\n",
      "Layer (type)                 Output Shape              Param #   \n",
      "=================================================================\n",
      "dense_1 (Dense)              (None, 36)                684       \n",
      "_________________________________________________________________\n",
      "dense_2 (Dense)              (None, 36)                1332      \n",
      "_________________________________________________________________\n",
      "dense_3 (Dense)              (None, 1)                 37        \n",
      "=================================================================\n",
      "Total params: 2,053\n",
      "Trainable params: 2,053\n",
      "Non-trainable params: 0\n",
      "_________________________________________________________________\n"
     ]
    }
   ],
   "source": [
    "# 모델의 구조 살펴 보기\n",
    "model.summary()"
   ]
  },
  {
   "cell_type": "markdown",
   "metadata": {},
   "source": [
    "## 모델 컴파일"
   ]
  },
  {
   "cell_type": "code",
   "execution_count": 45,
   "metadata": {},
   "outputs": [],
   "source": [
    "model.compile(optimizer='rmsprop', loss='binary_crossentropy', metrics=['accuracy'])"
   ]
  },
  {
   "cell_type": "markdown",
   "metadata": {},
   "source": [
    "## 모델 훈련"
   ]
  },
  {
   "cell_type": "code",
   "execution_count": 46,
   "metadata": {},
   "outputs": [
    {
     "name": "stdout",
     "output_type": "stream",
     "text": [
      "Epoch 1/100\n",
      "6/6 [==============================] - 1s 2ms/step - loss: 20.9755 - accuracy: 0.9091\n",
      "Epoch 2/100\n",
      "6/6 [==============================] - 0s 2ms/step - loss: 15.6856 - accuracy: 0.8727\n",
      "Epoch 3/100\n",
      "6/6 [==============================] - 0s 2ms/step - loss: 6.9457 - accuracy: 0.8909\n",
      "Epoch 4/100\n",
      "6/6 [==============================] - 0s 2ms/step - loss: 2.0464 - accuracy: 0.9455\n",
      "Epoch 5/100\n",
      "6/6 [==============================] - 0s 2ms/step - loss: 9.7432 - accuracy: 0.8909\n",
      "Epoch 6/100\n",
      "6/6 [==============================] - 0s 1ms/step - loss: 6.9433 - accuracy: 0.8909\n",
      "Epoch 7/100\n",
      "6/6 [==============================] - 0s 2ms/step - loss: 4.0219 - accuracy: 0.9455\n",
      "Epoch 8/100\n",
      "6/6 [==============================] - 0s 2ms/step - loss: 4.7004 - accuracy: 0.8909\n",
      "Epoch 9/100\n",
      "6/6 [==============================] - 0s 2ms/step - loss: 2.2470 - accuracy: 0.9636\n",
      "Epoch 10/100\n",
      "6/6 [==============================] - 0s 2ms/step - loss: 7.2295 - accuracy: 0.9091\n",
      "Epoch 11/100\n",
      "6/6 [==============================] - 0s 2ms/step - loss: 6.9738 - accuracy: 0.9091\n",
      "Epoch 12/100\n",
      "6/6 [==============================] - 0s 2ms/step - loss: 4.7035 - accuracy: 0.9091\n",
      "Epoch 13/100\n",
      "6/6 [==============================] - 0s 2ms/step - loss: 8.9890 - accuracy: 0.8727\n",
      "Epoch 14/100\n",
      "6/6 [==============================] - 0s 2ms/step - loss: 3.3524 - accuracy: 0.9091\n",
      "Epoch 15/100\n",
      "6/6 [==============================] - 0s 2ms/step - loss: 7.6720 - accuracy: 0.8727\n",
      "Epoch 16/100\n",
      "6/6 [==============================] - 0s 2ms/step - loss: 0.7098 - accuracy: 0.9636\n",
      "Epoch 17/100\n",
      "6/6 [==============================] - 0s 2ms/step - loss: 1.6369e-04 - accuracy: 1.0000\n",
      "Epoch 18/100\n",
      "6/6 [==============================] - 0s 2ms/step - loss: 7.1078e-05 - accuracy: 1.0000\n",
      "Epoch 19/100\n",
      "6/6 [==============================] - 0s 2ms/step - loss: 4.3152e-05 - accuracy: 1.0000\n",
      "Epoch 20/100\n",
      "6/6 [==============================] - 0s 1ms/step - loss: 2.8462e-05 - accuracy: 1.0000\n",
      "Epoch 21/100\n",
      "6/6 [==============================] - 0s 2ms/step - loss: 1.9525e-05 - accuracy: 1.0000\n",
      "Epoch 22/100\n",
      "6/6 [==============================] - 0s 2ms/step - loss: 1.3692e-05 - accuracy: 1.0000\n",
      "Epoch 23/100\n",
      "6/6 [==============================] - 0s 2ms/step - loss: 9.7328e-06 - accuracy: 1.0000\n",
      "Epoch 24/100\n",
      "6/6 [==============================] - 0s 1ms/step - loss: 6.9769e-06 - accuracy: 1.0000\n",
      "Epoch 25/100\n",
      "6/6 [==============================] - 0s 2ms/step - loss: 5.0304e-06 - accuracy: 1.0000\n",
      "Epoch 26/100\n",
      "6/6 [==============================] - 0s 2ms/step - loss: 3.6384e-06 - accuracy: 1.0000\n",
      "Epoch 27/100\n",
      "6/6 [==============================] - 0s 2ms/step - loss: 2.6383e-06 - accuracy: 1.0000\n",
      "Epoch 28/100\n",
      "6/6 [==============================] - 0s 2ms/step - loss: 1.9162e-06 - accuracy: 1.0000\n",
      "Epoch 29/100\n",
      "6/6 [==============================] - 0s 2ms/step - loss: 1.3936e-06 - accuracy: 1.0000\n",
      "Epoch 30/100\n",
      "6/6 [==============================] - 0s 1ms/step - loss: 1.0143e-06 - accuracy: 1.0000\n",
      "Epoch 31/100\n",
      "6/6 [==============================] - 0s 2ms/step - loss: 7.3855e-07 - accuracy: 1.0000\n",
      "Epoch 32/100\n",
      "6/6 [==============================] - 0s 2ms/step - loss: 5.3801e-07 - accuracy: 1.0000\n",
      "Epoch 33/100\n",
      "6/6 [==============================] - 0s 2ms/step - loss: 3.9201e-07 - accuracy: 1.0000\n",
      "Epoch 34/100\n",
      "6/6 [==============================] - 0s 2ms/step - loss: 2.8563e-07 - accuracy: 1.0000\n",
      "Epoch 35/100\n",
      "6/6 [==============================] - 0s 2ms/step - loss: 2.0815e-07 - accuracy: 1.0000\n",
      "Epoch 36/100\n",
      "6/6 [==============================] - 0s 2ms/step - loss: 1.5173e-07 - accuracy: 1.0000\n",
      "Epoch 37/100\n",
      "6/6 [==============================] - 0s 2ms/step - loss: 1.1057e-07 - accuracy: 1.0000\n",
      "Epoch 38/100\n",
      "6/6 [==============================] - 0s 2ms/step - loss: 8.0634e-08 - accuracy: 1.0000\n",
      "Epoch 39/100\n",
      "6/6 [==============================] - 0s 1ms/step - loss: 5.8773e-08 - accuracy: 1.0000\n",
      "Epoch 40/100\n",
      "6/6 [==============================] - 0s 2ms/step - loss: 4.2847e-08 - accuracy: 1.0000\n",
      "Epoch 41/100\n",
      "6/6 [==============================] - 0s 2ms/step - loss: 3.1238e-08 - accuracy: 1.0000\n",
      "Epoch 42/100\n",
      "6/6 [==============================] - 0s 2ms/step - loss: 2.2783e-08 - accuracy: 1.0000\n",
      "Epoch 43/100\n",
      "6/6 [==============================] - 0s 2ms/step - loss: 1.6618e-08 - accuracy: 1.0000\n",
      "Epoch 44/100\n",
      "6/6 [==============================] - 0s 2ms/step - loss: 1.2121e-08 - accuracy: 1.0000\n",
      "Epoch 45/100\n",
      "6/6 [==============================] - 0s 2ms/step - loss: 8.8496e-09 - accuracy: 1.0000\n",
      "Epoch 46/100\n",
      "6/6 [==============================] - 0s 1ms/step - loss: 6.4656e-09 - accuracy: 1.0000\n",
      "Epoch 47/100\n",
      "6/6 [==============================] - 0s 1ms/step - loss: 4.7298e-09 - accuracy: 1.0000\n",
      "Epoch 48/100\n",
      "6/6 [==============================] - 0s 2ms/step - loss: 3.4689e-09 - accuracy: 1.0000\n",
      "Epoch 49/100\n",
      "6/6 [==============================] - 0s 2ms/step - loss: 2.5541e-09 - accuracy: 1.0000\n",
      "Epoch 50/100\n",
      "6/6 [==============================] - 0s 2ms/step - loss: 1.8913e-09 - accuracy: 1.0000\n",
      "Epoch 51/100\n",
      "6/6 [==============================] - 0s 1ms/step - loss: 1.4145e-09 - accuracy: 1.0000\n",
      "Epoch 52/100\n",
      "6/6 [==============================] - 0s 2ms/step - loss: 1.0741e-09 - accuracy: 1.0000\n",
      "Epoch 53/100\n",
      "6/6 [==============================] - 0s 2ms/step - loss: 8.3464e-10 - accuracy: 1.0000\n",
      "Epoch 54/100\n",
      "6/6 [==============================] - 0s 2ms/step - loss: 6.7068e-10 - accuracy: 1.0000\n",
      "Epoch 55/100\n",
      "6/6 [==============================] - 0s 2ms/step - loss: 5.6420e-10 - accuracy: 1.0000\n",
      "Epoch 56/100\n",
      "6/6 [==============================] - 0s 2ms/step - loss: 5.0259e-10 - accuracy: 1.0000\n",
      "Epoch 57/100\n",
      "6/6 [==============================] - 0s 2ms/step - loss: 4.7792e-10 - accuracy: 1.0000\n",
      "Epoch 58/100\n",
      "6/6 [==============================] - 0s 2ms/step - loss: 4.8498e-10 - accuracy: 1.0000\n",
      "Epoch 59/100\n",
      "6/6 [==============================] - 0s 2ms/step - loss: 5.2190e-10 - accuracy: 1.0000\n",
      "Epoch 60/100\n",
      "6/6 [==============================] - 0s 2ms/step - loss: 5.8970e-10 - accuracy: 1.0000\n",
      "Epoch 61/100\n",
      "6/6 [==============================] - 0s 1ms/step - loss: 6.9238e-10 - accuracy: 1.0000\n",
      "Epoch 62/100\n",
      "6/6 [==============================] - 0s 1ms/step - loss: 8.3757e-10 - accuracy: 1.0000\n",
      "Epoch 63/100\n",
      "6/6 [==============================] - 0s 2ms/step - loss: 1.0419e-09 - accuracy: 1.0000\n",
      "Epoch 64/100\n",
      "6/6 [==============================] - 0s 2ms/step - loss: 5.6511 - accuracy: 0.9455\n",
      "Epoch 65/100\n",
      "6/6 [==============================] - 0s 2ms/step - loss: 14.8154 - accuracy: 0.9273\n",
      "Epoch 66/100\n",
      "6/6 [==============================] - 0s 1ms/step - loss: 7.2250 - accuracy: 0.9273\n",
      "Epoch 67/100\n",
      "6/6 [==============================] - 0s 2ms/step - loss: 3.7642 - accuracy: 0.9455\n",
      "Epoch 68/100\n",
      "6/6 [==============================] - 0s 2ms/step - loss: 3.5317 - accuracy: 0.9455\n",
      "Epoch 69/100\n",
      "6/6 [==============================] - 0s 1ms/step - loss: 3.7947 - accuracy: 0.9455\n",
      "Epoch 70/100\n",
      "6/6 [==============================] - 0s 2ms/step - loss: 3.7742 - accuracy: 0.9455\n",
      "Epoch 71/100\n",
      "6/6 [==============================] - 0s 2ms/step - loss: 3.5130 - accuracy: 0.9455\n",
      "Epoch 72/100\n",
      "6/6 [==============================] - 0s 2ms/step - loss: 3.8437 - accuracy: 0.9455\n",
      "Epoch 73/100\n",
      "6/6 [==============================] - 0s 1ms/step - loss: 4.3346 - accuracy: 0.9273\n",
      "Epoch 74/100\n",
      "6/6 [==============================] - 0s 1ms/step - loss: 2.3939 - accuracy: 0.9455\n",
      "Epoch 75/100\n",
      "6/6 [==============================] - 0s 2ms/step - loss: 1.8411 - accuracy: 0.9636\n",
      "Epoch 76/100\n",
      "6/6 [==============================] - 0s 2ms/step - loss: 5.8219 - accuracy: 0.9091\n",
      "Epoch 77/100\n",
      "6/6 [==============================] - 0s 1ms/step - loss: 0.6794 - accuracy: 0.9636\n",
      "Epoch 78/100\n",
      "6/6 [==============================] - 0s 2ms/step - loss: 1.9915e-07 - accuracy: 1.0000\n",
      "Epoch 79/100\n",
      "6/6 [==============================] - 0s 1ms/step - loss: 1.9866e-07 - accuracy: 1.0000\n",
      "Epoch 80/100\n",
      "6/6 [==============================] - 0s 2ms/step - loss: 1.9797e-07 - accuracy: 1.0000\n",
      "Epoch 81/100\n",
      "6/6 [==============================] - 0s 2ms/step - loss: 1.9703e-07 - accuracy: 1.0000\n",
      "Epoch 82/100\n",
      "6/6 [==============================] - 0s 1ms/step - loss: 1.9574e-07 - accuracy: 1.0000\n",
      "Epoch 83/100\n",
      "6/6 [==============================] - 0s 2ms/step - loss: 1.9407e-07 - accuracy: 1.0000\n",
      "Epoch 84/100\n",
      "6/6 [==============================] - 0s 2ms/step - loss: 1.9175e-07 - accuracy: 1.0000\n",
      "Epoch 85/100\n",
      "6/6 [==============================] - 0s 1ms/step - loss: 1.8864e-07 - accuracy: 1.0000\n",
      "Epoch 86/100\n",
      "6/6 [==============================] - 0s 2ms/step - loss: 1.8462e-07 - accuracy: 1.0000\n",
      "Epoch 87/100\n",
      "6/6 [==============================] - 0s 2ms/step - loss: 1.7929e-07 - accuracy: 1.0000\n",
      "Epoch 88/100\n",
      "6/6 [==============================] - 0s 2ms/step - loss: 1.7245e-07 - accuracy: 1.0000\n",
      "Epoch 89/100\n",
      "6/6 [==============================] - 0s 2ms/step - loss: 1.6382e-07 - accuracy: 1.0000\n",
      "Epoch 90/100\n",
      "6/6 [==============================] - 0s 2ms/step - loss: 1.5322e-07 - accuracy: 1.0000\n",
      "Epoch 91/100\n",
      "6/6 [==============================] - 0s 2ms/step - loss: 1.4058e-07 - accuracy: 1.0000\n",
      "Epoch 92/100\n",
      "6/6 [==============================] - 0s 2ms/step - loss: 1.2615e-07 - accuracy: 1.0000\n",
      "Epoch 93/100\n",
      "6/6 [==============================] - 0s 1ms/step - loss: 1.1042e-07 - accuracy: 1.0000\n",
      "Epoch 94/100\n",
      "6/6 [==============================] - 0s 2ms/step - loss: 9.4194e-08 - accuracy: 1.0000\n",
      "Epoch 95/100\n",
      "6/6 [==============================] - 0s 2ms/step - loss: 7.8245e-08 - accuracy: 1.0000\n",
      "Epoch 96/100\n",
      "6/6 [==============================] - 0s 1ms/step - loss: 6.3182e-08 - accuracy: 1.0000\n",
      "Epoch 97/100\n",
      "6/6 [==============================] - 0s 1ms/step - loss: 4.9829e-08 - accuracy: 1.0000\n",
      "Epoch 98/100\n",
      "6/6 [==============================] - 0s 2ms/step - loss: 3.8602e-08 - accuracy: 1.0000\n",
      "Epoch 99/100\n",
      "6/6 [==============================] - 0s 2ms/step - loss: 2.9636e-08 - accuracy: 1.0000\n",
      "Epoch 100/100\n",
      "6/6 [==============================] - 0s 1ms/step - loss: 2.2351e-08 - accuracy: 1.0000\n"
     ]
    },
    {
     "data": {
      "text/plain": [
       "<keras.callbacks.History at 0x19eba98e1c8>"
      ]
     },
     "execution_count": 46,
     "metadata": {},
     "output_type": "execute_result"
    }
   ],
   "source": [
    "model.fit(x_data, y_int, batch_size=10, epochs=100, shuffle=False)"
   ]
  },
  {
   "cell_type": "markdown",
   "metadata": {},
   "source": [
    "## 예측하기"
   ]
  },
  {
   "cell_type": "code",
   "execution_count": 64,
   "metadata": {},
   "outputs": [],
   "source": [
    "y_predict = model.predict(x_data) > 0.5 # 0.5 보다 크면 True, 아니면 False\n",
    "y_predict = y_predict + 0 # Convert boolean to int\n",
    "y_predict = np.squeeze(y_predict) # 차원 축소"
   ]
  },
  {
   "cell_type": "code",
   "execution_count": 65,
   "metadata": {},
   "outputs": [
    {
     "data": {
      "text/plain": [
       "array([0, 0, 0, 0, 1, 0, 0, 0, 1, 0, 0, 0, 0, 0, 0, 0, 0, 0, 0, 0, 0, 0,\n",
       "       0, 0, 0, 1, 0, 0, 0, 0, 0, 0, 0, 0, 0, 0, 0, 0, 0, 0, 0, 0, 0, 0,\n",
       "       0, 0, 0, 1, 0, 0, 1, 0, 0, 0, 0])"
      ]
     },
     "execution_count": 65,
     "metadata": {},
     "output_type": "execute_result"
    }
   ],
   "source": [
    "y_predict"
   ]
  },
  {
   "cell_type": "code",
   "execution_count": 67,
   "metadata": {},
   "outputs": [
    {
     "data": {
      "text/plain": [
       "array([0, 0, 0, 0, 1, 0, 0, 0, 1, 0, 0, 0, 0, 0, 0, 0, 0, 0, 0, 0, 0, 0,\n",
       "       0, 0, 0, 1, 0, 0, 0, 0, 0, 0, 0, 0, 0, 0, 0, 0, 0, 0, 0, 0, 0, 0,\n",
       "       0, 0, 0, 1, 0, 0, 1, 0, 0, 0, 0], dtype=int64)"
      ]
     },
     "execution_count": 67,
     "metadata": {},
     "output_type": "execute_result"
    }
   ],
   "source": [
    "y_int"
   ]
  },
  {
   "cell_type": "code",
   "execution_count": 70,
   "metadata": {},
   "outputs": [
    {
     "data": {
      "text/plain": [
       "array([0, 0, 0, 0, 0, 0, 0, 0, 0, 0, 0, 0, 0, 0, 0, 0, 0, 0, 0, 0, 0, 0,\n",
       "       0, 0, 0, 0, 0, 0, 0, 0, 0, 0, 0, 0, 0, 0, 0, 0, 0, 0, 0, 0, 0, 0,\n",
       "       0, 0, 0, 0, 0, 0, 0, 0, 0, 0, 0], dtype=int64)"
      ]
     },
     "execution_count": 70,
     "metadata": {},
     "output_type": "execute_result"
    }
   ],
   "source": [
    "y_int - y_predict"
   ]
  }
 ],
 "metadata": {
  "kernelspec": {
   "display_name": "Python 3",
   "language": "python",
   "name": "python3"
  },
  "language_info": {
   "codemirror_mode": {
    "name": "ipython",
    "version": 3
   },
   "file_extension": ".py",
   "mimetype": "text/x-python",
   "name": "python",
   "nbconvert_exporter": "python",
   "pygments_lexer": "ipython3",
   "version": "3.7.7"
  }
 },
 "nbformat": 4,
 "nbformat_minor": 4
}
